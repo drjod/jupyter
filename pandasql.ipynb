{
 "cells": [
  {
   "cell_type": "code",
   "execution_count": 1,
   "metadata": {},
   "outputs": [],
   "source": [
    "# diverse module werden zu installieren sein, z.b. pip install psycopg2\n",
    "# psql (pgAdmin) installieren\n",
    "# pip install sqlalchemy=1.3.23\n",
    "\n",
    "from sqlalchemy import create_engine #, MetaData\n",
    "#from sqlalchemy.orm import declarative_base  # für sqlalchemy 2.0.23\n",
    "from sqlalchemy.ext.declarative import declarative_base\n",
    "from sqlalchemy import Column, Integer, String, Float, DateTime\n",
    "from sqlalchemy.sql import text\n",
    "\n",
    "import pandas as pd"
   ]
  },
  {
   "cell_type": "code",
   "execution_count": 2,
   "metadata": {},
   "outputs": [],
   "source": [
    "# Mit Datenbank verbinden (psql)\n",
    "\n",
    "import access  # enthält persönliche Zugangsdaten\n",
    "\n",
    "schema = 'test2' # Datenbankname, Datenbank muß bereits existieren,  z.B. über pgAdmin\n",
    "host ='127.0.0.1' # localhost\n",
    "connection_string='postgresql://{}:{}@{}:5432/{}'.format(access.user, access.password, host, schema)\n",
    "engine = create_engine(connection_string)\n"
   ]
  },
  {
   "cell_type": "code",
   "execution_count": 3,
   "metadata": {},
   "outputs": [],
   "source": [
    "##########################################################\n",
    "# I. Tabellenstruktur über Klassen erzeugen\n",
    "#   Mit Festlegung von primary_key, Datentypen\n",
    "#\n",
    "# Zwei Tabellen werden angelegt:\n",
    "# 1. Kampagnen: Beihnaltet eine id (Kennung) und Beschreibung\n",
    "# 2. Messungen: Beinhaltet sämtliche Zeitreihen\n",
    "# Verknüfung der Messungen mit Kampagnenbeschreibung über Messungen.kampagne und Kampagnen.kennung\n",
    "\n",
    "\n",
    "Base = declarative_base()\n",
    "\n",
    "class Kampagnen(Base):\n",
    "    __tablename__ = 'Kampagnen'\n",
    "\n",
    "    kennung = Column(Integer, primary_key=True)\n",
    "    bezeichnung = Column(String(50), nullable=False, unique=True)\n",
    "    \n",
    "class Messsungen(Base):\n",
    "    __tablename__ = 'Messungen'\n",
    "\n",
    "    kampagne = Column(Integer, nullable=False)\n",
    "    zeit = Column(String, primary_key=True) # irgendwo primary key setzen\n",
    "    h_1 = Column(Float)\n",
    "    h_2 = Column(Float)\n",
    "\n",
    "\n",
    "Base.metadata.create_all(engine)\n"
   ]
  },
  {
   "cell_type": "code",
   "execution_count": 4,
   "metadata": {},
   "outputs": [
    {
     "data": {
      "text/html": [
       "<div>\n",
       "<style scoped>\n",
       "    .dataframe tbody tr th:only-of-type {\n",
       "        vertical-align: middle;\n",
       "    }\n",
       "\n",
       "    .dataframe tbody tr th {\n",
       "        vertical-align: top;\n",
       "    }\n",
       "\n",
       "    .dataframe thead th {\n",
       "        text-align: right;\n",
       "    }\n",
       "</style>\n",
       "<table border=\"1\" class=\"dataframe\">\n",
       "  <thead>\n",
       "    <tr style=\"text-align: right;\">\n",
       "      <th></th>\n",
       "      <th>kampagne</th>\n",
       "      <th>zeit</th>\n",
       "      <th>h_1</th>\n",
       "      <th>h_2</th>\n",
       "    </tr>\n",
       "  </thead>\n",
       "  <tbody>\n",
       "    <tr>\n",
       "      <th>0</th>\n",
       "      <td>1</td>\n",
       "      <td>10.10.2023</td>\n",
       "      <td>10</td>\n",
       "      <td>15</td>\n",
       "    </tr>\n",
       "    <tr>\n",
       "      <th>1</th>\n",
       "      <td>1</td>\n",
       "      <td>11.10.2023</td>\n",
       "      <td>10</td>\n",
       "      <td>15</td>\n",
       "    </tr>\n",
       "    <tr>\n",
       "      <th>2</th>\n",
       "      <td>1</td>\n",
       "      <td>12.10.2023</td>\n",
       "      <td>16</td>\n",
       "      <td>15</td>\n",
       "    </tr>\n",
       "    <tr>\n",
       "      <th>3</th>\n",
       "      <td>1</td>\n",
       "      <td>13.10.2023</td>\n",
       "      <td>10</td>\n",
       "      <td>15</td>\n",
       "    </tr>\n",
       "    <tr>\n",
       "      <th>4</th>\n",
       "      <td>2</td>\n",
       "      <td>12.11.2023</td>\n",
       "      <td>15</td>\n",
       "      <td>35</td>\n",
       "    </tr>\n",
       "  </tbody>\n",
       "</table>\n",
       "</div>"
      ],
      "text/plain": [
       "   kampagne        zeit   h_1   h_2\n",
       "0         1  10.10.2023    10    15\n",
       "1         1  11.10.2023    10    15\n",
       "2         1  12.10.2023    16    15\n",
       "3         1  13.10.2023    10    15\n",
       "4         2  12.11.2023    15    35"
      ]
     },
     "execution_count": 4,
     "metadata": {},
     "output_type": "execute_result"
    }
   ],
   "source": [
    "# Daten aus Dateien in Datennbanktabellen überführen\n",
    "\n",
    "# überführe Daten in DataFrames\n",
    "kf = pd.read_csv(\"kampagnen.csv\")\n",
    "mf = pd.read_csv(\"messungen.csv\")\n",
    "mf.head()"
   ]
  },
  {
   "cell_type": "code",
   "execution_count": 5,
   "metadata": {},
   "outputs": [
    {
     "name": "stdout",
     "output_type": "stream",
     "text": [
      "1 erstes mal gemessen\n",
      "2 wieder was gemessen\n",
      "3 letzte Messung\n"
     ]
    }
   ],
   "source": [
    "# Fülle Datenbanktabelle Kampagnen\n",
    "\n",
    "con = engine.connect()\n",
    "\n",
    "for index, row in kf.iterrows():\n",
    "    kennung, bezeichnung = row['kennung'], row['bezeichnung']\n",
    "    print(kennung, bezeichnung)\n",
    "    sql_command = text(\"\"\"INSERT INTO public.\"Kampagnen\" (kennung,bezeichnung) SELECT {0},'{1}' WHERE NOT EXISTS (SELECT kennung FROM public.\"Kampagnen\" WHERE kennung = {0});\"\"\".format(\n",
    "        kennung, bezeichnung))\n",
    "    query = con.execute(sql_command)\n",
    "    #con.commit()  # für sqlalchemy 2.0.23\n",
    "\n",
    "con.close()\n",
    "\n"
   ]
  },
  {
   "cell_type": "code",
   "execution_count": 6,
   "metadata": {},
   "outputs": [
    {
     "name": "stdout",
     "output_type": "stream",
     "text": [
      "1 10.10.2023 10 15\n",
      "1 11.10.2023 10 15\n",
      "1 12.10.2023 16 15\n",
      "1 13.10.2023 10 15\n",
      "2 12.11.2023 15 35\n",
      "2 13.11.2023 10 15\n",
      "2 14.11.2023 10 45\n",
      "2 15.11.2023 17 15\n",
      "2 16.11.2023 10 15\n",
      "2 17.11.2023 10 15\n",
      "2 18.11.2023 15 15\n",
      "2 19.11.2023 10 15\n",
      "3 13.12.2023 16 35\n",
      "3 14.12.2023 14 35\n",
      "3 15.12.2023 20 15\n",
      "3 16.12.2023 33 15\n",
      "3 17.12.2023 40 15\n",
      "3 18.12.2023 13 15\n",
      "3 19.12.2023 10 15\n"
     ]
    }
   ],
   "source": [
    "# Fülle Daenbanktabelle Messungen\n",
    "\n",
    "con = engine.connect()\n",
    "\n",
    "for index, row in mf.iterrows():\n",
    "    kampagne, zeit, h_1, h_2 = row['kampagne'], row[' zeit'], row[' h_1'], row[' h_2']\n",
    "    print(kampagne, zeit, h_1, h_2)\n",
    "    sql_command = text(\"\"\"INSERT INTO public.\"Messungen\" (kampagne,zeit,h_1,h_2) SELECT {0},'{1}',{2},{3} WHERE NOT EXISTS (SELECT zeit FROM public.\"Messungen\" WHERE zeit = '{1}');\"\"\".format(\n",
    "        kampagne, zeit, h_1, h_2))\n",
    "    query = con.execute(sql_command)\n",
    "    #con.commit()  # für sqlalchemy 2.0.23\n",
    "\n",
    "con.close()\n"
   ]
  },
  {
   "cell_type": "code",
   "execution_count": 16,
   "metadata": {},
   "outputs": [
    {
     "name": "stdout",
     "output_type": "stream",
     "text": [
      "(2, '12.11.2023', 15.0, 35.0)\n",
      "(2, '13.11.2023', 10.0, 15.0)\n",
      "(2, '14.11.2023', 10.0, 45.0)\n",
      "(2, '15.11.2023', 17.0, 15.0)\n",
      "(2, '16.11.2023', 10.0, 15.0)\n",
      "(2, '17.11.2023', 10.0, 15.0)\n",
      "(2, '18.11.2023', 15.0, 15.0)\n",
      "(2, '19.11.2023', 10.0, 15.0)\n"
     ]
    }
   ],
   "source": [
    "# Beispielzugriff 1:\n",
    "# Alle Messungen einer Kampagne\n",
    "\n",
    "con = engine.connect()\n",
    "\n",
    "gewaehlte_kampagne=2\n",
    "\n",
    "sql_command = text(\"\"\"SELECT * FROM public.\"Messungen\" WHERE kampagne={};\"\"\".format(gewaehlte_kampagne))\n",
    "query = con.execute(sql_command)\n",
    "\n",
    "\n",
    "for res in query:\n",
    "    print(res)\n",
    "    \n",
    "# für sqlalchemy 2.0.23\n",
    "#for res in query.all:\n",
    "#    print(res)\n",
    "\n",
    "con.close()"
   ]
  },
  {
   "cell_type": "code",
   "execution_count": 17,
   "metadata": {},
   "outputs": [
    {
     "name": "stdout",
     "output_type": "stream",
     "text": [
      "('wieder was gemessen',)\n"
     ]
    }
   ],
   "source": [
    "# Beispielzugriff 2:\n",
    "# Kampagnenbeschreibung zu einer Messung\n",
    "\n",
    "con = engine.connect()\n",
    "\n",
    "gewaehlte_zeit='14.11.2023'  # ist primary key, existiert nur einmal\n",
    "\n",
    "sql_command = text(\"\"\"SELECT * FROM public.\"Messungen\" WHERE zeit='{}';\"\"\".format(gewaehlte_zeit))\n",
    "query = con.execute(sql_command)\n",
    "#print(query.first())\n",
    "kampagnenkennung = query.first()[0]\n",
    "\n",
    "sql_command = text(\"\"\"SELECT bezeichnung FROM public.\"Kampagnen\" WHERE kennung=2;\"\"\".format(kampagnenkennung))\n",
    "query = con.execute(sql_command)\n",
    "print(query.first())\n",
    "\n",
    "con.close()"
   ]
  },
  {
   "cell_type": "code",
   "execution_count": 18,
   "metadata": {},
   "outputs": [
    {
     "data": {
      "text/html": [
       "<div>\n",
       "<style scoped>\n",
       "    .dataframe tbody tr th:only-of-type {\n",
       "        vertical-align: middle;\n",
       "    }\n",
       "\n",
       "    .dataframe tbody tr th {\n",
       "        vertical-align: top;\n",
       "    }\n",
       "\n",
       "    .dataframe thead th {\n",
       "        text-align: right;\n",
       "    }\n",
       "</style>\n",
       "<table border=\"1\" class=\"dataframe\">\n",
       "  <thead>\n",
       "    <tr style=\"text-align: right;\">\n",
       "      <th></th>\n",
       "      <th>kennung</th>\n",
       "      <th>bezeichnung</th>\n",
       "    </tr>\n",
       "  </thead>\n",
       "  <tbody>\n",
       "    <tr>\n",
       "      <th>0</th>\n",
       "      <td>1</td>\n",
       "      <td>erstes mal gemessen</td>\n",
       "    </tr>\n",
       "    <tr>\n",
       "      <th>1</th>\n",
       "      <td>2</td>\n",
       "      <td>wieder was gemessen</td>\n",
       "    </tr>\n",
       "    <tr>\n",
       "      <th>2</th>\n",
       "      <td>3</td>\n",
       "      <td>letzte Messung</td>\n",
       "    </tr>\n",
       "  </tbody>\n",
       "</table>\n",
       "</div>"
      ],
      "text/plain": [
       "   kennung          bezeichnung\n",
       "0        1  erstes mal gemessen\n",
       "1        2  wieder was gemessen\n",
       "2        3       letzte Messung"
      ]
     },
     "execution_count": 18,
     "metadata": {},
     "output_type": "execute_result"
    }
   ],
   "source": [
    "#######################################################################################################\n",
    "# III. Datenbankzugriffe (psql) mit pandas\n",
    "# 1. Tabelle lesen\n",
    "\n",
    "\n",
    "pd.read_sql('Kampagnen', 'postgresql+psycopg2:///{}'.format(schema)) "
   ]
  },
  {
   "cell_type": "code",
   "execution_count": 19,
   "metadata": {},
   "outputs": [
    {
     "data": {
      "text/html": [
       "<div>\n",
       "<style scoped>\n",
       "    .dataframe tbody tr th:only-of-type {\n",
       "        vertical-align: middle;\n",
       "    }\n",
       "\n",
       "    .dataframe tbody tr th {\n",
       "        vertical-align: top;\n",
       "    }\n",
       "\n",
       "    .dataframe thead th {\n",
       "        text-align: right;\n",
       "    }\n",
       "</style>\n",
       "<table border=\"1\" class=\"dataframe\">\n",
       "  <thead>\n",
       "    <tr style=\"text-align: right;\">\n",
       "      <th></th>\n",
       "      <th>kampagne</th>\n",
       "      <th>zeit</th>\n",
       "      <th>h_1</th>\n",
       "      <th>h_2</th>\n",
       "    </tr>\n",
       "  </thead>\n",
       "  <tbody>\n",
       "    <tr>\n",
       "      <th>0</th>\n",
       "      <td>2</td>\n",
       "      <td>12.11.2023</td>\n",
       "      <td>15.0</td>\n",
       "      <td>35.0</td>\n",
       "    </tr>\n",
       "    <tr>\n",
       "      <th>1</th>\n",
       "      <td>2</td>\n",
       "      <td>13.11.2023</td>\n",
       "      <td>10.0</td>\n",
       "      <td>15.0</td>\n",
       "    </tr>\n",
       "    <tr>\n",
       "      <th>2</th>\n",
       "      <td>2</td>\n",
       "      <td>14.11.2023</td>\n",
       "      <td>10.0</td>\n",
       "      <td>45.0</td>\n",
       "    </tr>\n",
       "    <tr>\n",
       "      <th>3</th>\n",
       "      <td>2</td>\n",
       "      <td>15.11.2023</td>\n",
       "      <td>17.0</td>\n",
       "      <td>15.0</td>\n",
       "    </tr>\n",
       "    <tr>\n",
       "      <th>4</th>\n",
       "      <td>2</td>\n",
       "      <td>16.11.2023</td>\n",
       "      <td>10.0</td>\n",
       "      <td>15.0</td>\n",
       "    </tr>\n",
       "    <tr>\n",
       "      <th>5</th>\n",
       "      <td>2</td>\n",
       "      <td>17.11.2023</td>\n",
       "      <td>10.0</td>\n",
       "      <td>15.0</td>\n",
       "    </tr>\n",
       "    <tr>\n",
       "      <th>6</th>\n",
       "      <td>2</td>\n",
       "      <td>18.11.2023</td>\n",
       "      <td>15.0</td>\n",
       "      <td>15.0</td>\n",
       "    </tr>\n",
       "    <tr>\n",
       "      <th>7</th>\n",
       "      <td>2</td>\n",
       "      <td>19.11.2023</td>\n",
       "      <td>10.0</td>\n",
       "      <td>15.0</td>\n",
       "    </tr>\n",
       "  </tbody>\n",
       "</table>\n",
       "</div>"
      ],
      "text/plain": [
       "   kampagne        zeit   h_1   h_2\n",
       "0         2  12.11.2023  15.0  35.0\n",
       "1         2  13.11.2023  10.0  15.0\n",
       "2         2  14.11.2023  10.0  45.0\n",
       "3         2  15.11.2023  17.0  15.0\n",
       "4         2  16.11.2023  10.0  15.0\n",
       "5         2  17.11.2023  10.0  15.0\n",
       "6         2  18.11.2023  15.0  15.0\n",
       "7         2  19.11.2023  10.0  15.0"
      ]
     },
     "execution_count": 19,
     "metadata": {},
     "output_type": "execute_result"
    }
   ],
   "source": [
    "# 2. Über SQL-Anweisungen\n",
    "\n",
    "con = engine.connect()\n",
    "\n",
    "gewaehlte_kampagne=2\n",
    "fr = pd.read_sql('SELECT * FROM public.\"Messungen\" WHERE kampagne={};'.format(gewaehlte_kampagne), con)\n",
    "con.close()\n",
    "\n",
    "fr"
   ]
  },
  {
   "cell_type": "code",
   "execution_count": 20,
   "metadata": {},
   "outputs": [],
   "source": [
    "# 3. Erzeuge Tabelle in Datenbank\n",
    "\n",
    "data = {'tiefe': [1, 2, 3, 4, 5], \n",
    "        'wert': [10, 9.8, 10.1, 12.1, 11.5]} \n",
    "  \n",
    "df = pd.DataFrame(data)\n",
    "\n",
    "con = engine.connect()\n",
    "\n",
    "# Erzeuge Tabelle mit den Daten\n",
    "df.to_sql('Tiefenprofil', con=con, if_exists='replace', \n",
    "          index=False) \n",
    "\n",
    "con.autocommit = True\n",
    "\n",
    "con.close()\n",
    "\n",
    "# Lese aus der Datenbank\n",
    "#sql1 = '''select * from public.\"Tiefenprofil\";'''\n",
    "#query = con.execute(sql1)\n",
    "\n",
    "#print(query.first())\n",
    "#for res in query:\n",
    "#    print(res)\n",
    "#for i in cursor.fetchall(): \n",
    "#    print(i) \n",
    "  \n",
    "# conn.commit() \n",
    "#conn.close() "
   ]
  },
  {
   "cell_type": "code",
   "execution_count": 21,
   "metadata": {},
   "outputs": [
    {
     "name": "stdout",
     "output_type": "stream",
     "text": [
      "(1, 10.0)\n",
      "(2, 9.8)\n",
      "(3, 10.1)\n",
      "(4, 12.1)\n",
      "(5, 11.5)\n"
     ]
    }
   ],
   "source": [
    "# SQL-Anweisung auf die erzeugte Tabelle\n",
    "con = engine.connect()\n",
    "sql_command = \"\"\"SELECT * FROM public.\"Tiefenprofil\";\"\"\"\n",
    "query = con.execute(sql_command)\n",
    "\n",
    "for res in query:\n",
    "    print(res)"
   ]
  },
  {
   "cell_type": "code",
   "execution_count": 22,
   "metadata": {},
   "outputs": [],
   "source": [
    "engine.dispose()"
   ]
  },
  {
   "cell_type": "code",
   "execution_count": null,
   "metadata": {},
   "outputs": [],
   "source": []
  }
 ],
 "metadata": {
  "kernelspec": {
   "display_name": "Python 3",
   "language": "python",
   "name": "python3"
  },
  "language_info": {
   "codemirror_mode": {
    "name": "ipython",
    "version": 3
   },
   "file_extension": ".py",
   "mimetype": "text/x-python",
   "name": "python",
   "nbconvert_exporter": "python",
   "pygments_lexer": "ipython3",
   "version": "3.7.6"
  }
 },
 "nbformat": 4,
 "nbformat_minor": 4
}
