{
 "cells": [
  {
   "cell_type": "code",
   "execution_count": 22,
   "metadata": {
    "collapsed": true
   },
   "outputs": [],
   "source": [
    "from ipywidgets import widgets\n",
    "import numpy as np\n",
    "import matplotlib.pyplot as plt\n",
    "import matplotlib.patches as patches\n",
    "%matplotlib inline"
   ]
  },
  {
   "cell_type": "code",
   "execution_count": 23,
   "metadata": {
    "collapsed": false
   },
   "outputs": [],
   "source": [
    "type='U'\n",
    "\n",
    "D = 0.13\n",
    "d_o = .0320\n",
    "d_i = .0262\n",
    "\n",
    "\n",
    "if type is 'U':\n",
    "    #D = 0.13 #0.10 # borehole diameter (m)\n",
    "    #d_o = .032 # outer pipe diameter (m)\n",
    "    #d_i = .0262 # inner pipe diameter (m)\n",
    "    #w = .085 # 0.085 # .06 # shank spacing (m)\n",
    "    w = .06\n",
    "    # alpha = 3121.6\n",
    "elif type is '2U':\n",
    "    #D = 0.16 #0.10 # borehole diameter (m)\n",
    "    #d_o = .04 # outer pipe diameter (m)\n",
    "    #d_i = .0326 # inner pipe diameter (m)\n",
    "    #w = 0.098 / 1.41421356 #  0.04242\n",
    "    w  = .06 # 1.41421356\n",
    "    # alpha = 1785.6\n",
    "    \n",
    "L = 100. # pipe length (m)\n",
    "\n",
    "lambda_f = 0.6405  # fluid heat conductivity (W/mK)\n",
    "lambda_p = 0.38 # 0.3654  # pipe heat conductivity (W/mK)\n",
    "lambda_g = 2.3  # grout heat conductivity (W/mK)\n",
    "\n",
    "mu_f = 0.54741e-3  # fluid viscosity (kg/ms)\n",
    "rho_f = 988.1 # fluid bulk density (kg/m3)\n",
    "c_f = 4180.95 # heat capacity (J/kgK)\n",
    "\n",
    "Q = 2.53e-4 # flow rate (m3/s)\n",
    "\n",
    "N = 101 # number of nodes (-)\n",
    "\n",
    "T_s_profile = np.ones(N) * 10. # soil temperature\n",
    "\n",
    "T_i = 80. # inlet temperture (°C)\n",
    "\n",
    "#R_a = 0.35 # 0.291 # interner thermischer Sondenwiderstand (Km/W)\n",
    "#R_b = 0.12 # 0.108 # thermischer Bohrlochwiderstand (Km/W)\n",
    "\n"
   ]
  },
  {
   "cell_type": "code",
   "execution_count": 24,
   "metadata": {
    "collapsed": false
   },
   "outputs": [
    {
     "data": {
      "image/png": "[encoded data removed]",
      "text/plain": [
       "<matplotlib.figure.Figure at 0x7fa05a071b00>"
      ]
     },
     "metadata": {},
     "output_type": "display_data"
    }
   ],
   "source": [
    "\n",
    "\n",
    "def draw_birdView(_D, _d_o, _w, setting):\n",
    "     \n",
    "    pipe_color = 'blue' if setting else 'red'\n",
    "\n",
    "    fig, ax = plt.subplots(1, 1, figsize=(5,5))\n",
    "    plt.subplots_adjust(wspace=.5)\n",
    "    \n",
    "    ax.set_xlim((-.1,.1))\n",
    "    ax.set_ylim((-.1,.1))\n",
    "    \n",
    "    ax.add_patch(patches.Circle((0, 0), _D/2, \n",
    "                                 facecolor='grey', edgecolor='black', linewidth=2))\n",
    "    \n",
    "    ax.add_patch(patches.Circle((_w/2, 0), _d_o/2, \n",
    "                                 facecolor=pipe_color, edgecolor='black', linewidth=2))\n",
    "    ax.add_patch(patches.Circle((-_w/2, 0), _d_o/2, \n",
    "                                 facecolor=pipe_color, edgecolor='black', linewidth=2))\n",
    "    if type is '2U':\n",
    "        ax.add_patch(patches.Circle((0, _w/2), -_d_o/2, \n",
    "                                 facecolor=pipe_color, edgecolor='black', linewidth=2))\n",
    "        ax.add_patch(patches.Circle((0, -_w/2), -_d_o/2, \n",
    "                                 facecolor=pipe_color, edgecolor='black', linewidth=2))\n",
    "\n",
    "\n",
    "\n",
    "    \n",
    "draw_birdView(D, d_o, w, True)"
   ]
  },
  {
   "cell_type": "markdown",
   "metadata": {},
   "source": [
    "### U\n",
    "\n",
    "\\begin{eqnarray}\n",
    "   u &=& \\frac{Q}{\\pi r_i^2}\n",
    "\\end{eqnarray}\n",
    "\n",
    "### 2U\n",
    "\n",
    "\\begin{eqnarray}\n",
    "   u &=& \\frac{Q}{2\\pi r_i^2}\n",
    "\\end{eqnarray}\n",
    " \n",
    " -------\n",
    " \n",
    " \\begin{eqnarray}\n",
    "  Re &=& \\frac{|u| d_i \\rho_f}{\\mu_f} \\\\\n",
    "  \\xi &=& (1.8 \\log_{10} (Re) - 1.5)^{-2} \\\\\n",
    "  \\gamma &=& \\frac{Re - 2300}{10^4 - 2300} \\qquad\\qquad 0 \\leq \\gamma \\leq 1\n",
    " \\end{eqnarray}\n",
    " \n",
    "-----\n",
    " \\begin{eqnarray}\n",
    " Pr &=& \\frac{\\mu_f c_f}{\\lambda_f} \\\\\n",
    " Nu &=& \\begin{cases}\n",
    "  4.364 \\qquad\\qquad\\qquad\\qquad\\qquad\\qquad\\qquad\\qquad\\qquad\\qquad\\mbox{if $Re< 2300$} \\\\\n",
    "    (1 - \\gamma) 4.364 + \\gamma \\left( \\frac{10^4 Pr (0.0308/8)}{1+12.7 \\sqrt{0.0308/8}(Pr^{2/3}-1)} \\left[ 1 + \\left( \\frac{d_i}{L}\\right)^{2/3} \\right] \\right)\n",
    "  \\qquad\\mbox{if $2300 \\leq Re < 10^4$} \\\\\n",
    "  \\frac{Re\\,Pr (\\xi/8) }{1+12.7\\sqrt{\\xi/8}(Pr^{2/3}-1) } \\left[ 1+ \\left( \\frac{d_i}{L} \\right)^{2/3} \\right] \n",
    "  \\qquad\\qquad\\qquad\\qquad\\qquad\\mbox{if $Re\\geq 10^4$}\n",
    " \\end{cases}\n",
    " \\end{eqnarray}\n",
    " "
   ]
  },
  {
   "cell_type": "code",
   "execution_count": 25,
   "metadata": {
    "collapsed": false
   },
   "outputs": [
    {
     "name": "stdout",
     "output_type": "stream",
     "text": [
      "U\n",
      "A_i: 0.0005391287152825444\n",
      "u: 0.4692756902540589\n",
      "Re: 22193.07705366897\n",
      "Pr: 3.5732924894613585\n",
      "Nu: 127.6877222070327\n"
     ]
    }
   ],
   "source": [
    "\n",
    "\n",
    "def calculate_flow(_d_o, _d_i, _w, _L, _Q, _c_f, _rho_f, _mu_f, _lambda_f):\n",
    "    _r_o = _d_o / 2\n",
    "    _r_i = _d_i / 2\n",
    "    _A_i = np.pi * _r_i * _r_i\n",
    "\n",
    "\n",
    "    if type is 'U':\n",
    "        _u = _Q / (np.pi * _r_i*_r_i)\n",
    "    elif type is '2U':\n",
    "        _u = _Q / (2 * np.pi * _r_i*_r_i)\n",
    "\n",
    "    _Re= _u * _d_i * _rho_f / _mu_f\n",
    "    _xi = (1.8 * np.log10(_Re) - 1.5)**(-2)\n",
    "    #xi = (0.79 * np.log(Re) - 1.64)**(-2)\n",
    "    _gamma = (_Re - 2300.) / 7700\n",
    "\n",
    "    _Pr = _mu_f * _c_f / _lambda_f\n",
    "\n",
    "    if _Re < 2300:\n",
    "        _Nu = 4.364\n",
    "    elif _Re < 10000:\n",
    "        _Nu =  (1 - _gamma) * 4.364 + _gamma *(1 + (_d_i / _L)**0.66666667) * 10000 * _Pr * (0.0308/8) / \\\n",
    "        (1+12.7* np.sqrt(0.0308/8) * (_Pr**0.66666667 - 1))\n",
    "        #Nu =  (1 - gamma) * 4.364 + gamma(1 + (d_i / L)**0.66666667) * 38.5 * Pr / (1 + 0.7880142765 * (Pr**0.66666667 - 1))\n",
    "    else:\n",
    "        _Nu = (1 + (_d_i / _L)**0.66666667) * _Re * _Pr * (_xi/8) / \\\n",
    "        (1+12.7* np.sqrt(_xi/8) * (_Pr**0.66666667 - 1))\n",
    "        #Nu = (Re - 1000) * Pr * (xi/8) / (1+12.7* np.sqrt(xi/8) * (Pr**0.66666667 - 1))\n",
    "\n",
    "    return (_A_i, _u, _Re, _Pr, _Nu)\n",
    "    \n",
    "\n",
    "(A_i, u, Re, Pr, Nu) = calculate_flow(d_o, d_i, w, L, Q, c_f, rho_f, mu_f, lambda_f)   \n",
    "        \n",
    "if type is 'U':\n",
    "    print('U')\n",
    "elif type is '2U':\n",
    "    print('2U')             \n",
    "\n",
    "print('A_i: {}'.format(A_i))\n",
    "print('u: {}'.format(u))\n",
    "print('Re: {}'.format(Re))\n",
    "print('Pr: {}'.format(Pr))\n",
    "print('Nu: {}'.format(Nu))"
   ]
  },
  {
   "cell_type": "markdown",
   "metadata": {},
   "source": [
    "### U\n",
    "\n",
    "\\begin{eqnarray}\n",
    "x &=& \\frac{ \\ln\\left( \\frac{\\sqrt{D^2  + 2 d_o^2} } { 2 d_0}   \\right) } \n",
    "{ \\ln\\left( \\frac{D}{\\sqrt{2} d_o} \\right) } \n",
    "\\\\\n",
    "R_g &=& \\frac{\\arcosh\\left( \\frac{D^2 + d_o^2 - w^2 }{2 D d_o} \\right)} {2\\pi \\lambda_g} \\left( 1.601 - 0.888 \\frac{w}{D}  \\right)  \\\\\n",
    "R_{ar} &=& \\frac{\\arcosh\\left( \\frac{2 w^2 - d_o^2}{d_o^2} \\right)}{2\\pi \\lambda_g}\n",
    "\\end{eqnarray}\n",
    "\n",
    "### 2U\n",
    "\n",
    "\\begin{eqnarray}\n",
    "x &=& \\frac{ \\ln\\left( \\frac{\\sqrt{D^2  + 4 d_o^2} } { 2 \\sqrt{2} d_0}   \\right) } \n",
    "{ \\ln\\left( \\frac{D}{2 d_o} \\right) } \n",
    "\\\\\n",
    "R_g &=& \\frac{\\arcosh\\left( \\frac{D^2 + d_o^2 - s^2 }{2 D d_o} \\right)} {2\\pi \\lambda_g} \\left( 3.098 - 4.432 \\frac{s}{D} + 2.364 \\frac{s^2}{D^2} \\right)  \\\\\n",
    "R_{ar1} &=& \\frac{\\arcosh\\left( \\frac{s^2 - d_o^2}{d_o^2} \\right)}{2\\pi \\lambda_g} \\\\\n",
    "R_{ar2} &=& \\frac{\\arcosh\\left( \\frac{2 s^2 - d_o^2}{d_o^2} \\right)}{2\\pi \\lambda_g}\n",
    "\\end{eqnarray}"
   ]
  },
  {
   "cell_type": "code",
   "execution_count": 26,
   "metadata": {
    "collapsed": false
   },
   "outputs": [
    {
     "name": "stdout",
     "output_type": "stream",
     "text": [
      "x: 0.7257634896627004\n",
      "R_g: 0.09386725156776805\n",
      "R_ar1: 0.1718289941788396\n"
     ]
    }
   ],
   "source": [
    "def calculate_resistance_basic(_D, _d_o, _d_i, _w,  _lambda_g):\n",
    "\n",
    "    if type is 'U':\n",
    "        _x = np.log(np.sqrt(_D*_D + 2*_d_o*_d_o) / (2*_d_o)) / np.log(_D/ (1.41421356*_d_o))\n",
    "        _R_g = (1.601 - 0.888 * _w/_D) * np.arccosh( (_D*_D + _d_o*_d_o - _w*_w) / (2*_D*_d_o) ) / \\\n",
    "        (2*np.pi * _lambda_g)\n",
    "        _R_ar1 = np.arccosh( (2 * _w*_w - _d_o*_d_o) / (_d_o*_d_o) ) / (2 * np.pi * _lambda_g)\n",
    "        _R_ar2 = -10000.\n",
    "    elif type is '2U':\n",
    "        _s = _w * 1.41421356\n",
    "        _x = np.log(np.sqrt(_D*_D + 4*_d_o*_d_o) / (2.8284271247461903*_d_o)) / np.log(_D/ (2*_d_o))\n",
    "        _R_g = (3.098 - (4.432 * _w/_D) + 2.364 * _s*_s/(_D*_D) ) * np.arccosh( (_D*_D + _d_o*_d_o - _s*_s) / \\\n",
    "        (2*_D*_d_o) ) / (2*np.pi * _lambda_g)\n",
    "        _R_ar1 = np.arccosh( (_s*_s - _d_o*_d_o) / (_d_o*_d_o) ) / (2 * np.pi * _lambda_g)\n",
    "        _R_ar2 = np.arccosh( (2 * _s*_s - _d_o*_d_o) / (_d_o*_d_o) ) / (2 * np.pi * _lambda_g)\n",
    "    \n",
    "    return (_x, _R_g, _R_ar1, _R_ar2)\n",
    "\n",
    "(x, R_g, R_ar1, R_ar2) = calculate_resistance_basic(D, d_o, d_i, w, lambda_g)\n",
    "\n",
    "print('x: {}'.format(x))\n",
    "print('R_g: {}'.format(R_g))\n",
    "if type is 'U':\n",
    "    print('R_ar1: {}'.format(R_ar1))\n",
    "elif type is '2U':\n",
    "    print('R_ar1: {}'.format(R_ar1))\n",
    "    print('R_ar2: {}'.format(R_ar2))"
   ]
  },
  {
   "cell_type": "markdown",
   "metadata": {},
   "source": [
    "\\begin{eqnarray}\n",
    "R_{adv} &=& \\frac{1}{Nu\\, \\lambda_f\\pi} \\\\\n",
    "R_{con}^a &=& \\frac{\\ln(r_0 / r_i)}{2 \\pi \\lambda_p} \\\\\n",
    "R_{con}^b &=& x R_g\n",
    "\\end{eqnarray}"
   ]
  },
  {
   "cell_type": "code",
   "execution_count": 27,
   "metadata": {
    "collapsed": false
   },
   "outputs": [
    {
     "name": "stdout",
     "output_type": "stream",
     "text": [
      "R_adv: 0.003892080851834689\n",
      "R_con_a: 0.08375591370836136\n",
      "R_con_b: 0.06812542406286994\n"
     ]
    }
   ],
   "source": [
    "def calculate_resistance_pipe(_d_o, _d_i, _x, _Nu, _R_g, _lambda_f, _lambda_p):\n",
    "\n",
    "    _R_adv = 1. / (_Nu * _lambda_f * np.pi)\n",
    "    _R_con_a = np.log(_d_o / _d_i) / (2*np.pi * _lambda_p)\n",
    "    _R_con_b = _x * _R_g\n",
    "\n",
    "    return (_R_adv, _R_con_a, _R_con_b)\n",
    "\n",
    "(R_adv, R_con_a, R_con_b) = calculate_resistance_pipe(d_o, d_i, x, Nu, R_g, lambda_f, lambda_p)\n",
    "\n",
    "print('R_adv: {}'.format(R_adv))\n",
    "print('R_con_a: {}'.format(R_con_a))\n",
    "print('R_con_b: {}'.format(R_con_b))"
   ]
  },
  {
   "cell_type": "markdown",
   "metadata": {},
   "source": [
    "\\begin{eqnarray}\n",
    "R_{fg} &=& R_{adv} + R_{con}^a + R_{con}^b \\\\\n",
    "R_{gs} &=& (1-x) R_g \n",
    "\\end{eqnarray}\n",
    "\n",
    "### U\n",
    "\n",
    "\\begin{eqnarray}\n",
    "R_{gg} &=& \\frac{2 R_{gs} \\left( R_{ar} - 2x R_g \\right)}{2 R_{gs} - R_{ar} + 2x R_g} \n",
    "\\end{eqnarray}\n",
    "\n",
    "### 2U\n",
    "\n",
    "\\begin{eqnarray}\n",
    "R_{gg1} &=& \\frac{2 R_{gs} \\left( R_{ar1} - 2x R_g \\right)}{2 R_{gs} - R_{ar1} + 2x R_g} \\\\\n",
    "R_{gg2} &=& \\frac{2 R_{gs} \\left( R_{ar2} - 2x R_g \\right)}{2 R_{gs} - R_{ar2} + 2x R_g}\n",
    "\\end{eqnarray}\n",
    "\n",
    "-----\n",
    "## From TRT\n",
    "\n",
    "### U\n",
    "\n",
    "\\begin{eqnarray}\n",
    "R_{fg} &=& R_b \\\\\n",
    "R_{gs} &=& R_b \\\\\n",
    "R_{gg} &=& \\frac{2R_b(R_a-2R_b)}{4R_b -R_a} \n",
    "\\end{eqnarray}\n",
    "\n",
    "-----\n",
    "\\begin{eqnarray}\n",
    "R_{g} &=& 2R_b - R_{adv} - R_{con}^a \\\\\n",
    "R_{ar} &=& R_a - 2(R_{adv} + R_{con}^a) \\\\\n",
    "\\end{eqnarray}\n",
    "\n",
    "### 2U\n",
    "\n",
    "\\begin{eqnarray}\n",
    "R_{fg} &=& 2R_b \\\\\n",
    "R_{gs} &=& 2R_b \\\\\n",
    "R_{gg1} &=& \\frac{8R_b(R_a-2R_b)}{4R_b -R_a} \\\\\n",
    "R_{gg2} &=& R_{gg1}\n",
    "\\end{eqnarray}\n",
    "\n",
    "-----\n",
    "\\begin{eqnarray}\n",
    "R_{g} &=& 4R_b - R_{adv} - R_{con}^a \\\\\n",
    "R_{ar1} &=& \\frac{(2 + \\sqrt{2})R_g  (R_a - R_{adv} - R_{con}^a)}\n",
    "{R_g + R_a -R_{adv} - R_{cond}^a} \\\\\n",
    "R_{ar2} &=& \\sqrt{2} R_{ar1}\n",
    "\\end{eqnarray}\n"
   ]
  },
  {
   "cell_type": "code",
   "execution_count": 28,
   "metadata": {
    "collapsed": false
   },
   "outputs": [
    {
     "name": "stdout",
     "output_type": "stream",
     "text": [
      "R_fg: 0.15577341862306598\n",
      "R_gs: 0.02574182750489812\n",
      "R_gg1 (can be negative): 0.11516091703024402\n",
      "constraint (should be positive): 0.03557814605309973\n"
     ]
    }
   ],
   "source": [
    "def calculate_resistance(_x, _R_g, _R_ar1, _R_ar2, _R_adv, _R_con_a, _R_con_b):\n",
    "\n",
    "    _R_fg = _R_adv + _R_con_a + _R_con_b\n",
    "    _R_gs = (1 - _x) * _R_g\n",
    "\n",
    "    #R_ar = .226 # .187\n",
    "    if type is 'U':\n",
    "        _R_gg1 = 2 * _R_gs * (_R_ar1 - 2*_x*_R_g) / (2*_R_gs - _R_ar1 + 2*_x*_R_g)\n",
    "        _R_gg2 = -10000.\n",
    "        #R_fg = 0.15577\n",
    "        #R_gs = 0.02574\n",
    "        #R_gg = 0.11516\n",
    "    elif type is '2U':\n",
    "        _R_gg1 = 2 * _R_gs * (_R_ar1 - 2*_x*_R_g) / (2*_R_gs - _R_ar1 + 2*_x*_R_g)\n",
    "        _R_gg2 = 2 * _R_gs * (_R_ar2 - 2*_x*_R_g) / (2*_R_gs - _R_ar2 + 2*_x*_R_g)\n",
    "        #R_fg = 0.14485\n",
    "        #R_gs = 0.06833\n",
    "        #R_gg1 = 0.00031\n",
    "        #R_gg2 = 0.11776\n",
    "    \n",
    "    return (_R_fg, _R_gs, _R_gg1, _R_gg2)\n",
    "\n",
    "(R_fg, R_gs, R_gg1, R_gg2) = calculate_resistance(x, R_g, R_ar1, R_ar2, R_adv, R_con_a, R_con_b)\n",
    "#R_fg = R_b\n",
    "#R_gs = R_b\n",
    "#R_gg = 2 * R_b * (R_a-2*R_b) / (4*R_b - R_a)\n",
    "\n",
    "print('R_fg: {}'.format(R_fg))\n",
    "print('R_gs: {}'.format(R_gs))\n",
    "if type is 'U':\n",
    "    print('R_gg1 (can be negative): {}'.format(R_gg1))\n",
    "    print('constraint (should be positive): {}'.format(1/( (1/R_gg1) + (.5/R_gs)  )))\n",
    "elif type is '2U':\n",
    "    print('R_gg1 (can be negative): {}'.format(R_gg1))\n",
    "    print('R_gg2 (can be negative): {}'.format(R_gg2))\n",
    "    print('constraint (should be positive): {}'.format(1/( (1/R_gg1) + (.5/R_gs)  )))\n",
    "    print('constraint (should be positive): {}'.format(1/( (1/R_gg2) + (.5/R_gs)  )))"
   ]
  },
  {
   "cell_type": "markdown",
   "metadata": {},
   "source": [
    "### U\n",
    "\n",
    "\\begin{eqnarray}\n",
    "u_1 &=& \\frac{1}{R_{fg}} + \\frac{1}{R_{gs}} + \\frac{1}{R_{gg}} \\\\\n",
    "R_1^\\Delta &=& R_{fg} + R_{gs} \\\\\n",
    "R_{12}^\\Delta &=& \\frac{(u_1 R_{fg} R_{gg})^2 - R_{fg}^2 } {R_{gg}} \n",
    "\\end{eqnarray}\n",
    "\n",
    "### U2\n",
    "\n",
    "\\begin{eqnarray}\n",
    "v &=& \\frac{R_{gg1}R_{gg2}}{2(R_{gg1}+R_{gg2})} \\\\\n",
    "u_2 &=& \\frac{2}{R_{fg}} + \\frac{2}{R_{gs}} + \\frac{1}{v} \\\\\n",
    "R_1^\\Delta &=& \\frac{R_{fg} + R_{gs}}{2} \\\\\n",
    "R_{12}^\\Delta &=& \\frac{ R_{fg}^2 } {4} \\left( u_2^2 v - \\frac{1}{v} \\right)\n",
    "\\end{eqnarray}"
   ]
  },
  {
   "cell_type": "code",
   "execution_count": 29,
   "metadata": {
    "collapsed": false
   },
   "outputs": [
    {
     "name": "stdout",
     "output_type": "stream",
     "text": [
      "u_1: 53.95036277886092\n",
      "v: -10000.0\n",
      "R_1_Delta: 0.1815152461279641\n",
      "R_12_Delta: 7.9228494922443495\n"
     ]
    }
   ],
   "source": [
    "def calculate_resistance_delta(_R_fg, _R_gs, _R_gg1, _R_gg2):\n",
    "\n",
    "    if type is 'U':\n",
    "        _v = -10000.\n",
    "        _u_1 = (1 / _R_fg) + (1 / _R_gs) + (1 / _R_gg1)\n",
    "        _R_1_Delta = _R_fg + _R_gs\n",
    "        _R_12_Delta = ( (_u_1 * _R_fg * _R_gg1)*(_u_1 * _R_fg * _R_gg1) - _R_fg*_R_fg) / _R_gg1\n",
    "\n",
    "        #print('u_1: {}'.format(u_1))    \n",
    "    elif type is '2U':\n",
    "        _v = _R_gg1 * _R_gg2 / (2*(_R_gg1 + _R_gg2))\n",
    "        _u_1 = (2 / _R_fg) + (2 / _R_gs) + (1 / _v)\n",
    "        _R_1_Delta = (_R_fg + _R_gs) / 2\n",
    "        _R_12_Delta = (_u_1 * _u_1 * _v - (1/_v)) * _R_fg * _R_fg / 4\n",
    "\n",
    "        #print('v: {}'.format(v))    \n",
    "        #print('u_2: {}'.format(u_2))\n",
    "    \n",
    "    return (_R_1_Delta, _R_12_Delta, _u_1, _v)\n",
    "\n",
    "(R_1_Delta, R_12_Delta, u_1, v) = calculate_resistance_delta(R_fg, R_gs, R_gg1, R_gg2)\n",
    "\n",
    "print('u_1: {}'.format(u_1))\n",
    "print('v: {}'.format(v))\n",
    "print('R_1_Delta: {}'.format(R_1_Delta))\n",
    "print('R_12_Delta: {}'.format(R_12_Delta))"
   ]
  },
  {
   "cell_type": "markdown",
   "metadata": {},
   "source": [
    "\\begin{eqnarray}\n",
    " \\beta_1 &=& \\frac{1}{R_1^\\Delta A_i \\rho_f c_f u} \\\\\n",
    " \\beta_{12} &=& \\frac{1}{R_{12}^\\Delta A_i \\rho_f c_f u} \\\\\n",
    " \\gamma &=& \\sqrt{\\beta_1^2 + 2 \\beta_{12} \\beta_1} \\\\\n",
    " \\delta &=& \\frac{1}{\\gamma} \\left( \\beta_{12} + \\beta_1 \\right)\n",
    "\\end{eqnarray}\n",
    "\n"
   ]
  },
  {
   "cell_type": "code",
   "execution_count": 30,
   "metadata": {
    "collapsed": false
   },
   "outputs": [
    {
     "name": "stdout",
     "output_type": "stream",
     "text": [
      "beta_1: 0.005270969422076398\n",
      "beta_2: 0.00012075974848667016\n",
      "gamma: 0.0053903766595522935\n",
      "delta: 1.0002509121525631\n"
     ]
    }
   ],
   "source": [
    "def calculate_greeks(_A_i, _u, _rho_f, _c_f, _R_1_Delta, _R_12_Delta):\n",
    "    _beta_1 = 1 / (_R_1_Delta * _A_i * _rho_f * _c_f * _u )\n",
    "    _beta_12 = 1 / (_R_12_Delta * _A_i * _rho_f * _c_f * _u )\n",
    "    _gamma = np.sqrt(_beta_1 * (_beta_1 + 2 * _beta_12))\n",
    "    _delta = (_beta_1 + _beta_12) / _gamma\n",
    "    \n",
    "    return (_beta_1, _beta_12, _gamma, _delta)\n",
    "\n",
    "(beta_1, beta_12, gamma, delta) = calculate_greeks(A_i, u, rho_f, c_f, R_1_Delta, R_12_Delta)\n",
    "\n",
    "print('beta_1: {}'.format(beta_1))\n",
    "print('beta_2: {}'.format(beta_12))\n",
    "print('gamma: {}'.format(gamma))\n",
    "print('delta: {}'.format(delta))"
   ]
  },
  {
   "cell_type": "markdown",
   "metadata": {},
   "source": [
    "\\begin{eqnarray}\n",
    " f_1(z) &=& \\cosh(\\gamma z) - \\delta \\sinh(\\gamma z) \\\\\n",
    " f_2(z) &=& \\frac{\\beta_{12}}{\\gamma} \\sinh(\\gamma z) \\\\ \n",
    " f_3(z) &=& \\cosh(\\gamma z) + \\delta \\sinh(\\gamma z) \\\\ \n",
    " f_4(z) &=& \\beta_1 \\left[\\cosh(\\gamma z) - \\delta - \\frac{ \\beta_{12}}{\\gamma} \\sinh(\\gamma z) \\right] \\\\ \n",
    " f_5(z) &=& \\beta_1 \\left[ \\cosh(\\gamma z) + \\delta + \\frac{\\beta_{12}}\n",
    " {\\gamma} \\sinh(\\gamma z) \\right]\n",
    "\\end{eqnarray}"
   ]
  },
  {
   "cell_type": "code",
   "execution_count": 31,
   "metadata": {
    "collapsed": false
   },
   "outputs": [],
   "source": [
    "def provide_functions(_N, _L, _beta_12, _gamma, _delta):\n",
    "\n",
    "    _Delta_L = _L / (_N-1)\n",
    "    _depth = np.arange(0, _N*_Delta_L, _Delta_L)\n",
    "    _gdepth = _gamma*_depth\n",
    "\n",
    "    _f1 = np.cosh(_gdepth) - _delta * np.sinh(_gdepth)\n",
    "    _f2 = np.sinh(_gdepth) * _beta_12 / _gamma\n",
    "    _f3 = np.cosh(_gdepth) + _delta * np.sinh(_gdepth)\n",
    "    #f4 = beta_1 * (np.cosh(gdepth) - delta - np.sinh(gdepth) * beta_12 / gamma)\n",
    "    #f5 = beta_1 * (np.cosh(gdepth) + delta + np.sinh(gdepth) * beta_12 / gamma)\n",
    "\n",
    "    return (_f1, _f2, _f3, _Delta_L, _depth)\n",
    "\n",
    "(f1, f2, f3, Delta_L, depth) = provide_functions(N, L, beta_12, gamma, delta)\n",
    "\n",
    "def F4(_z, _a, _b, _beta_1, _beta_12, _gamma, _delta):\n",
    "    return ((-np.sinh(_gamma*(_z-_b)) + np.sinh(_gamma*(_z-_a))) * _beta_1 + \\\n",
    "            (np.cosh(_gamma*(_z-_b)) - np.cosh(_gamma*(_z-_a)) )* \\\n",
    "            (_delta*_beta_1 + _beta_1 * _beta_12/_gamma) )/ _gamma\n",
    "\n",
    "def F5(_z, _a, _b, _beta_1, _beta_12, _gamma, _delta):\n",
    "    return ((-np.sinh(_gamma*(_z-_b)) + np.sinh(_gamma*(_z-_a))) * _beta_1 - \\\n",
    "            (np.cosh(_gamma*(_z-_b)) - np.cosh(_gamma*(_z-_a)) )* \\\n",
    "            (_delta*_beta_1 + _beta_1 * _beta_12/_gamma) )/ _gamma\n"
   ]
  },
  {
   "cell_type": "markdown",
   "metadata": {},
   "source": [
    "\\begin{eqnarray}\n",
    "T_o(t) &=& T_i(t) \\frac{f_1(L) + f_2(L)}{f_3(L) - f_2(L)} + \n",
    "\\int_0^L \\frac{T_s(\\xi, t) \\left[ f_4(L-\\xi) + f_5(L-\\xi) \\right]}{f_3(L) - f_2(L)} \\,d\\xi \\\\\n",
    "T_i(z, t) &=& T_i(t) f_1(z) + T_o(t) f_2(z) + \\int_0^z T_s(\\xi, t) f_4(z-\\xi)\\, d\\xi \\\\\n",
    "T_o(z, t) &=& -T_i(t) f_2(z) + T_o(t) f_3(z) - \\int_0^z T_s(\\xi, t) f_5(z-\\xi)\\, d\\xi\n",
    "\\end{eqnarray}\n",
    "\n",
    "### U\n",
    "\n",
    "\\begin{eqnarray}\n",
    "T_{gi}(z, t) &=&  \\frac{\\left[ \\frac{T_s(z, t)}{R_{gs}} + \\frac{T_o(z, t)}{R_{fg}} + \n",
    "\\left( \\frac{T_s(z, t)}{R_{gs}} + \\frac{T_i(z, t)}{R_{fg}}  \\right) u_1 R_{gg}  \\right] R_{gg}}{R_{gg}^2 u_1^2 - 1} \\\\\n",
    "T_{go}(z, t) &=& \\left( \\frac{T_{g1}(z, t)}{R_{gg}} + \\frac{T_{o}(z, t)}{R_{fg}} + \\frac{T_{s}(z, t)}{R_{gs}} \\right) \\frac{1}{u_1}\n",
    "\\end{eqnarray}\n",
    "\n",
    "### 2U\n",
    "\n",
    "\\begin{eqnarray}\n",
    "T_{gi}(z, t) &=&  \\left[ \\frac{2T_s(z, t)}{R_{gs}} + \\frac{2T_o(z, t)}{R_{fg}} + \n",
    "\\left( \\frac{2T_s(z, t)}{R_{gs}} + \\frac{2T_i(z, t)}{R_{fg}}  \\right) u_2 v \\right]\n",
    " \\frac{v}{v^2 u_2^2 -1}  \\\\\n",
    "T_{go}(z, t) &=& \\left( \\frac{T_{g1}(z, t)}{v} + \\frac{2T_{o}(z, t)}{R_{fg}} + \\frac{2T_{s}(z, t)}{R_{gs}} \\right) \\frac{1}{u_2}\n",
    "\\end{eqnarray}"
   ]
  },
  {
   "cell_type": "code",
   "execution_count": 32,
   "metadata": {
    "collapsed": false
   },
   "outputs": [],
   "source": [
    "def calculate_temperatures(_f1, _f2, _f3, _N, _L, _Delta_L, _T_i, _T_s_profile, \n",
    "                           _R_fg, _R_gs, _R_gg1, _R_gg2, _v, _u_1, _beta_1, _beta_12, _gamma, _delta):\n",
    "\n",
    "\n",
    "    _T_o = _T_i * (_f1[_N-1] + _f2[_N-1])\n",
    "    z  = 0.\n",
    "    for i in range(0, _N-1):\n",
    "        _T_o += (F4(_L, z, z+_Delta_L, _beta_1, _beta_12, _gamma, _delta) + \\\n",
    "                F5(_L, z, z+_Delta_L, _beta_1, _beta_12, _gamma, _delta) ) * \\\n",
    "                    (_T_s_profile[i] + _T_s_profile[i+1]) / 2\n",
    "        z += _Delta_L\n",
    "    _T_o /= (_f3[_N-1] - _f2[_N-1])\n",
    "\n",
    "    _T_i_profile = np.empty(_N)\n",
    "    _T_o_profile = np.empty(_N)\n",
    "    _T_i_profile = _T_i * _f1 + _T_o * _f2\n",
    "    _T_o_profile = -_T_i * _f2 + _T_o * _f3\n",
    "\n",
    "    z = 0.\n",
    "    for i in range(1, _N):\n",
    "        z2 = 0.\n",
    "        for j in range(i):\n",
    "            _T_i_profile[i] += F4(z, z2, z2+_Delta_L, _beta_1, _beta_12, _gamma, _delta) * \\\n",
    "                                (_T_s_profile[j-1] + _T_s_profile[j]) / 2\n",
    "            _T_o_profile[i] -= F5(z, z2, z2+_Delta_L, _beta_1, _beta_12, _gamma, _delta) * \\\n",
    "                                (_T_s_profile[j-1] + _T_s_profile[j]) / 2\n",
    "            z2 += _Delta_L\n",
    "        z += _Delta_L\n",
    "\n",
    "    if type is 'U':\n",
    "        _T_gi_profile = ((_T_s_profile / _R_gs) +  (_T_o_profile / _R_fg) +  \\\n",
    "                         ( (_T_s_profile/_R_gs) + \n",
    "                          (_T_i_profile / _R_fg) ) * _u_1 * _R_gg1 ) * _R_gg1 / \\\n",
    "            ( _R_gg1 * _R_gg1 * _u_1 * _u_1 -1)\n",
    "        _T_go_profile = ((_T_gi_profile / _R_gg1) +  (_T_o_profile / _R_fg) + \\\n",
    "                         (_T_s_profile / _R_gs)) / _u_1\n",
    "    elif type is '2U':\n",
    "        _T_gi_profile = ((_T_s_profile / _R_gs) +  (_T_o_profile /_R_fg) +  \\\n",
    "                         ( (_T_s_profile/_R_gs) + (_T_i_profile / _R_fg) ) * _u_1 * _v ) * 2 * _v / \\\n",
    "                ( _v*_v * _u_1 * _u_1 -1 )\n",
    "        _T_go_profile = ((_T_gi_profile / _v) +  (2*_T_o_profile / _R_fg) + \\\n",
    "                         (2*_T_s_profile / _R_gs)) / _u_1\n",
    "    \n",
    "    return (_T_i_profile, _T_o_profile, _T_gi_profile, _T_go_profile)\n",
    "\n",
    "\n",
    "(T_i_profile, T_o_profile, T_gi_profile, T_go_profile) = \\\n",
    "calculate_temperatures(f1, f2, f3, N, L, Delta_L, T_i, T_s_profile, R_fg, R_gs, R_gg1, R_gg2, v, u_1, \\\n",
    "                       beta_1, beta_12, gamma, delta)\n"
   ]
  },
  {
   "cell_type": "code",
   "execution_count": 36,
   "metadata": {
    "collapsed": false
   },
   "outputs": [
    {
     "data": {
      "text/plain": [
       "<matplotlib.figure.Figure at 0x7fa0597d7d30>"
      ]
     },
     "metadata": {},
     "output_type": "display_data"
    },
    {
     "data": {
      "image/png": "[encoded data removed]",
      "text/plain": [
       "<matplotlib.figure.Figure at 0x7fa059dd16d8>"
      ]
     },
     "metadata": {},
     "output_type": "display_data"
    }
   ],
   "source": [
    "def do_plot(_T_i_profile, _T_o_profile, _T_gi_profile, _T_go_profile, _T_s_profile, _D, _d_o, _w, setting):\n",
    "    plt.figure(1, figsize=(12, 5))\n",
    "\n",
    "    #ax = plt.subplot(121)\n",
    "    #fig, axes = plt.subplots(1, 2, figsize=(12,5))\n",
    "    fig, (ax1, ax2) = plt.subplots(1, 2, figsize=(12,5))\n",
    "    \n",
    "    ax1.plot(_T_i_profile, -depth, label='T_i', color='b')\n",
    "    ax1.plot(_T_o_profile, -depth, label='T_o', color='b', linestyle='--')\n",
    "\n",
    "    ax1.plot(_T_gi_profile, -depth, label='T_gi', color='grey')\n",
    "    ax1.plot(_T_go_profile, -depth, label='T_go', color='grey', linestyle='--')\n",
    "\n",
    "    ax1.plot(_T_s_profile, -depth, label='T_s', color='orange')\n",
    "    \n",
    "    ax1.grid(True)\n",
    "    ax1.legend(loc='lower right')\n",
    "    \n",
    "    pipe_color = 'blue' if setting else 'red'\n",
    "\n",
    "    #ax = plt.subplot(122)\n",
    "    #plt.subplots_adjust(wspace=.5)\n",
    "    \n",
    "    ax2.set_xlim((-.1,.1))\n",
    "    ax2.set_ylim((-.1,.1))\n",
    "    ax2.grid(True)\n",
    "    \n",
    "    ax2.add_patch(patches.Circle((0, 0), _D/2, \n",
    "                                 facecolor='grey', edgecolor='black', linewidth=2))\n",
    "    \n",
    "    ax2.add_patch(patches.Circle((_w/2, 0), _d_o/2, \n",
    "                                 facecolor=pipe_color, edgecolor='black', linewidth=2))\n",
    "    ax2.add_patch(patches.Circle((-_w/2, 0), _d_o/2, \n",
    "                                 facecolor=pipe_color, edgecolor='black', linewidth=2))\n",
    "    if type is '2U':\n",
    "        ax2.add_patch(patches.Circle((0, _w/2), -_d_o/2, \n",
    "                                 facecolor=pipe_color, edgecolor='black', linewidth=2))\n",
    "        ax2.add_patch(patches.Circle((0, -_w/2), -_d_o/2, \n",
    "                                 facecolor=pipe_color, edgecolor='black', linewidth=2))\n",
    "    \n",
    "    \n",
    "do_plot(T_i_profile, T_o_profile, T_gi_profile, T_go_profile, T_s_profile, D, d_o, w, True)"
   ]
  },
  {
   "cell_type": "code",
   "execution_count": 34,
   "metadata": {
    "collapsed": false
   },
   "outputs": [
    {
     "name": "stdout",
     "output_type": "stream",
     "text": [
      "x:     0.7258   R_adv:   0.0039   R_fg:  0.1558   beta_1:  0.0053   u:  0.4693\n",
      "R_g:   0.0939   R_con_a: 0.0838   R_gs:  0.0257   beta_12: 0.0001   Re:  22193.0771\n",
      "R_ar1: 0.1718   R_con_b: 0.0681   R_gg1: 0.1152   gamma:  0.0054    Pr:  3.5733\n",
      "R_ar2: -10000.0000                     R_gg2: -10000.0000   delta:  1.0003   Nu:  127.6877\n",
      "T_i: 80.0000  T_gi: 19.0327 \n",
      "T_o: 34.5081  T_go: 14.3701 \n",
      "Setup: True  Constraint1: 0.0356  Constraint 2: 0.0515\n"
     ]
    },
    {
     "ename": "TypeError",
     "evalue": "do_plot() missing 1 required positional argument: 'setting'",
     "output_type": "error",
     "traceback": [
      "\u001b[0;31m---------------------------------------------------------------------------\u001b[0m",
      "\u001b[0;31mTypeError\u001b[0m                                 Traceback (most recent call last)",
      "\u001b[0;32m<ipython-input-34-78e8ca3f0cf8>\u001b[0m in \u001b[0;36mcalculate\u001b[0;34m(_D, _w, _d_o, _b, _Q, _lambda_g)\u001b[0m\n\u001b[1;32m     25\u001b[0m \u001b[0;34m\u001b[0m\u001b[0m\n\u001b[1;32m     26\u001b[0m     do_plot(T_i_profile, T_o_profile, T_gi_profile, T_go_profile, _D, _d_o, _w, \n\u001b[0;32m---> 27\u001b[0;31m             setup and constraint1 > 0 and constraint2 > 0)\n\u001b[0m\u001b[1;32m     28\u001b[0m \u001b[0;34m\u001b[0m\u001b[0m\n\u001b[1;32m     29\u001b[0m \u001b[0;34m\u001b[0m\u001b[0m\n",
      "\u001b[0;31mTypeError\u001b[0m: do_plot() missing 1 required positional argument: 'setting'"
     ]
    }
   ],
   "source": [
    "def calculate(_D, _w, _d_o, _b, _Q, _lambda_g):\n",
    "    _d_i = d_o - 2*_b\n",
    "    \n",
    "    (A_i, u, Re, Pr, Nu) = calculate_flow(_d_o, _d_i, _w, L, _Q, c_f, rho_f, mu_f, lambda_f)\n",
    "    (x, R_g, R_ar1, R_ar2) = calculate_resistance_basic(_D, _d_o, _d_i, _w, _lambda_g)\n",
    "    (R_adv, R_con_a, R_con_b) = calculate_resistance_pipe(_d_o, _d_i, x, Nu, R_g, lambda_f, lambda_p)\n",
    "    (R_fg, R_gs, R_gg1, R_gg2) = calculate_resistance(x, R_g, R_ar1, R_ar2, R_adv, R_con_a, R_con_b)\n",
    "    (R_1_Delta, R_12_Delta, u_1, v) = calculate_resistance_delta(R_fg, R_gs, R_gg1, R_gg2)\n",
    "    (beta_1, beta_12, gamma, delta) = calculate_greeks(A_i, u, rho_f, c_f, R_1_Delta, R_12_Delta)\n",
    "    (f1, f2, f3, Delta_L, depth) = provide_functions(N, L, beta_12, gamma, delta)\n",
    "    (T_i_profile, T_o_profile, T_gi_profile, T_go_profile) = calculate_temperatures(f1, f2, f3, N, L, Delta_L, T_i, T_s_profile, R_fg, R_gs, R_gg1, R_gg2, v, u_1, \\\n",
    "                           beta_1, beta_12, gamma, delta)\n",
    "    \n",
    "    print('x:     {0:3.4f}   R_adv:   {1:3.4f}   R_fg:  {2:3.4f}   beta_1:  {3:3.4f}   u:  {4:3.4f}'.format(x, R_adv, R_fg, beta_1, u))\n",
    "    print('R_g:   {0:3.4f}   R_con_a: {1:3.4f}   R_gs:  {2:3.4f}   beta_12: {3:3.4f}   Re:  {4:3.4f}'.format(R_g, R_con_a,  R_gs, beta_12, Re))\n",
    "    print('R_ar1: {0:3.4f}   R_con_b: {1:3.4f}   R_gg1: {2:3.4f}   gamma:  {3:3.4f}    Pr:  {4:3.4f}'.format(R_ar1, R_con_b, R_gg1, gamma, Pr))\n",
    "    print('R_ar2: {0:3.4f}                     R_gg2: {1:3.4f}   delta:  {2:3.4f}   Nu:  {3:3.4f}'.format(R_ar2, R_gg2, delta, Nu))\n",
    "    print('T_i: {0:3.4f}  T_gi: {1:3.4f} '.format(T_i_profile[0], T_gi_profile[0]))\n",
    "    print('T_o: {0:3.4f}  T_go: {1:3.4f} '.format(T_o_profile[0], T_go_profile[0]))\n",
    "\n",
    "    setup = _w+ _d_o < _D and _d_o < _w\n",
    "    constraint1 = 1/( (1/R_gg1) + (.5/R_gs))\n",
    "    constraint2 = 1/( (1/R_gg2) + (.5/R_gs))\n",
    "    print('Setup: {0}  Constraint1: {1:3.4f}  Constraint 2: {2:3.4f}'.format(\n",
    "       setup, constraint1, constraint2))\n",
    "    \n",
    "    do_plot(T_i_profile, T_o_profile, T_gi_profile, T_go_profile, _D, _d_o, _w, \n",
    "            setup and constraint1 > 0 and constraint2 > 0)\n",
    "\n",
    "\n",
    "widget_return = widgets.interact(calculate, \n",
    "                                 # borehole diameter\n",
    "                                 _D=widgets.FloatSlider(value=D, min=.05, max=.2, \n",
    "                                              step=0.001, readout_format='.3f'),\n",
    "                                 _w=widgets.FloatSlider(value=w, min=.01, max=.1, \n",
    "                                              step=0.001, readout_format='.3f'),\n",
    "                                 _d_o=widgets.FloatSlider(value=d_o, min=.001, max=.05, \n",
    "                                              step=0.001, readout_format='.3f'),\n",
    "                                 _b=widgets.FloatSlider(value=(d_o-d_i)/2, min=.001, max=.01, \n",
    "                                              step=0.001, readout_format='.3f'),\n",
    "                                 _Q=widgets.FloatSlider(value=Q, min=1.e-6, max=1.e-3, \n",
    "                                              step=1.e-6, readout_format='.6f'),\n",
    "                                 _lambda_g=widgets.FloatSlider(value=lambda_g, min=.5, max=4., \n",
    "                                              step=0.001, readout_format='.3f')\n",
    "       \n",
    "                                )"
   ]
  },
  {
   "cell_type": "code",
   "execution_count": null,
   "metadata": {
    "collapsed": true
   },
   "outputs": [],
   "source": []
  },
  {
   "cell_type": "code",
   "execution_count": null,
   "metadata": {
    "collapsed": true
   },
   "outputs": [],
   "source": []
  }
 ],
 "metadata": {
  "kernelspec": {
   "display_name": "Python3 (anaconda)",
   "language": "python",
   "name": "anaconda"
  },
  "language_info": {
   "codemirror_mode": {
    "name": "ipython",
    "version": 3
   },
   "file_extension": ".py",
   "mimetype": "text/x-python",
   "name": "python",
   "nbconvert_exporter": "python",
   "pygments_lexer": "ipython3",
   "version": "3.6.0"
  },
  "widgets": {
   "state": {
    "8d5a38a299944e119f28e88d7939efcd": {
     "views": [
      {
       "cell_index": 20
      }
     ]
    }
   },
   "version": "1.2.0"
  }
 },
 "nbformat": 4,
 "nbformat_minor": 2
}
