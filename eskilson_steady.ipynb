{
 "cells": [
  {
   "cell_type": "code",
   "execution_count": 1,
   "metadata": {
    "collapsed": true
   },
   "outputs": [],
   "source": [
    "from ipywidgets import widgets\n",
    "import numpy as np\n",
    "import matplotlib.pyplot as plt\n",
    "import matplotlib.patches as patches\n",
    "%matplotlib inline"
   ]
  },
  {
   "cell_type": "code",
   "execution_count": 2,
   "metadata": {
    "collapsed": false
   },
   "outputs": [],
   "source": [
    "type='U'\n",
    "\n",
    "D = 0.13\n",
    "d_out = .0320\n",
    "d_in = .0262\n",
    "\n",
    "\n",
    "if type is 'U':\n",
    "    #D = 0.13 #0.10 # borehole diameter (m)\n",
    "    #d_o = .032 # outer pipe diameter (m)\n",
    "    #d_i = .0262 # inner pipe diameter (m)\n",
    "    #w = .085 # 0.085 # .06 # shank spacing (m)\n",
    "    w = .06\n",
    "    # alpha = 3121.6\n",
    "elif type is '2U':\n",
    "    #D = 0.16 #0.10 # borehole diameter (m)\n",
    "    #d_o = .04 # outer pipe diameter (m)\n",
    "    #d_i = .0326 # inner pipe diameter (m)\n",
    "    #w = 0.098 / 1.41421356 #  0.04242\n",
    "    w  = .06 # 1.41421356\n",
    "    # alpha = 1785.6\n",
    "elif type is 'CXA':\n",
    "    w = 0.\n",
    "    \n",
    "    \n",
    "    \n",
    "L = 100. # pipe length (m)\n",
    "\n",
    "lambda_f = 0.6405  # fluid heat conductivity (W/mK)\n",
    "lambda_p = 0.38 # 0.3654  # pipe heat conductivity (W/mK)\n",
    "lambda_g = 2.3  # grout heat conductivity (W/mK)\n",
    "\n",
    "mu_f = 0.54741e-3  # fluid viscosity (kg/ms)\n",
    "rho_f = 988.1 # fluid bulk density (kg/m3)\n",
    "c_f = 4180.95 # heat capacity (J/kgK)\n",
    "\n",
    "Q = 2.53e-4 # flow rate (m3/s)\n",
    "\n",
    "N = 101 # number of nodes (-)\n",
    "\n",
    "T_s_profile = np.ones(N) * 10. # soil temperature\n",
    "\n",
    "T_in = 80. # inlet temperture (°C)\n",
    "\n",
    "#R_a = 0.35 # 0.291 # interner thermischer Sondenwiderstand (Km/W)\n",
    "#R_b = 0.12 # 0.108 # thermischer Bohrlochwiderstand (Km/W)\n",
    "\n"
   ]
  },
  {
   "cell_type": "code",
   "execution_count": 3,
   "metadata": {
    "collapsed": false
   },
   "outputs": [
    {
     "data": {
      "image/png": "[encoded data removed]",
      "text/plain": [
       "<matplotlib.figure.Figure at 0x7fa496f01a90>"
      ]
     },
     "metadata": {},
     "output_type": "display_data"
    }
   ],
   "source": [
    "\n",
    "\n",
    "def draw_birdView(_D, _d_out, _w, setting):\n",
    "     \n",
    "    pipe_color = 'blue' if setting else 'red'\n",
    "\n",
    "    fig, ax = plt.subplots(1, 1, figsize=(5,5))\n",
    "    plt.subplots_adjust(wspace=.5)\n",
    "    \n",
    "    ax.set_xlim((-.1,.1))\n",
    "    ax.set_ylim((-.1,.1))\n",
    "    \n",
    "    ax.add_patch(patches.Circle((0, 0), _D/2, \n",
    "                                 facecolor='grey', edgecolor='black', linewidth=2))\n",
    "    \n",
    "    ax.add_patch(patches.Circle((_w/2, 0), _d_out/2, \n",
    "                                 facecolor=pipe_color, edgecolor='black', linewidth=2))\n",
    "    ax.add_patch(patches.Circle((-_w/2, 0), _d_out/2, \n",
    "                                 facecolor=pipe_color, edgecolor='black', linewidth=2))\n",
    "    if type is '2U':\n",
    "        ax.add_patch(patches.Circle((0, _w/2), -_d_out/2, \n",
    "                                 facecolor=pipe_color, edgecolor='black', linewidth=2))\n",
    "        ax.add_patch(patches.Circle((0, -_w/2), -_d_out/2, \n",
    "                                 facecolor=pipe_color, edgecolor='black', linewidth=2))\n",
    "\n",
    "\n",
    "\n",
    "    \n",
    "draw_birdView(D, d_out, w, True)"
   ]
  },
  {
   "cell_type": "markdown",
   "metadata": {},
   "source": [
    "\\begin{eqnarray}\n",
    " Pr &=& \\frac{\\mu_f c_f}{\\lambda_f} \n",
    "\\end{eqnarray}\n",
    "\n",
    "-------\n",
    " \n",
    "### U\n",
    "\n",
    "\\begin{eqnarray}\n",
    "   u &=& \\frac{Q}{\\pi r_i^2}\n",
    "\\end{eqnarray}\n",
    "\n",
    "### 2U\n",
    "\n",
    "\\begin{eqnarray}\n",
    "   u &=& \\frac{Q}{2\\pi r_i^2}\n",
    "\\end{eqnarray}\n",
    " \n",
    " -------\n",
    " ### U / 2U\n",
    " \n",
    " \\begin{eqnarray}\n",
    "  Re &=& \\frac{|u| d_i \\rho_f}{\\mu_f} \\\\\n",
    "  \\xi &=& (1.8 \\log_{10} (Re) - 1.5)^{-2} \\\\\n",
    "  \\gamma &=& \\frac{Re - 2300}{10^4 - 2300} \\qquad\\qquad 0 \\leq \\gamma \\leq 1\n",
    " \\end{eqnarray}\n",
    " \n",
    "-----\n",
    " \\begin{eqnarray}\n",
    " Nu &=& \\begin{cases}\n",
    "  4.364 \\qquad\\qquad\\qquad\\qquad\\qquad\\qquad\\qquad\\qquad\\qquad\\qquad\\mbox{if $Re< 2300$} \\\\\n",
    "    (1 - \\gamma) 4.364 + \\gamma \\left( \\frac{10^4 Pr (0.0308/8)}{1+12.7 \\sqrt{0.0308/8}(Pr^{2/3}-1)} \n",
    "    \\left[ 1 + \\left( \\frac{d_i}{L}\\right)^{2/3} \\right] \\right)\n",
    "  \\qquad\\mbox{if $2300 \\leq Re < 10^4$} \\\\\n",
    "  \\frac{Re\\,Pr (\\xi/8) }{1+12.7\\sqrt{\\xi/8}(Pr^{2/3}-1) } \\left[ 1+ \\left( \\frac{d_i}{L} \\right)^{2/3} \\right] \n",
    "  \\qquad\\qquad\\qquad\\qquad\\qquad\\mbox{if $Re\\geq 10^4$}\n",
    " \\end{cases}\n",
    " \\end{eqnarray}\n",
    " \n",
    " ### CXA\n",
    " \n",
    " \\begin{eqnarray}\n",
    "   u_{out} &=& \\frac{Q}{\\pi r_{out_i}^2}  \\qquad\\qquad\\qquad\\qquad\n",
    "   & u_{in} = \\frac{Q}{\\pi (r_{in_i}^2 - r_{out_o}^2  ) } \\\\\n",
    "      Re_{out} &=& \\frac{|u| d_{out_i} \\rho_f}{\\mu_f} \n",
    "    &   Re_{in} = \\frac{|u| d_{in} \\rho_f}{\\mu_f} \\\\\n",
    "          \\xi_{out} &=& (1.8 \\log_{10} (Re_{out}) - 1.5)^{-2} \n",
    "      & \\xi_{in} = (1.8 \\log_{10} (Re_{in}) - 1.5)^{-2} \\\\\n",
    "  \\gamma_{out} &=& \\frac{Re_{out} - 2300}{10^4 - 2300}  \n",
    "   & \\gamma_{in} = \\frac{Re_{in} - 2300}{10^4 - 2300} \n",
    "\\end{eqnarray}\n",
    "\n",
    " \n",
    "  \\begin{eqnarray}\n",
    " Nu_{out} &=& \\begin{cases}\n",
    "  4.364 \\qquad\\qquad\\qquad\\qquad\\qquad\\qquad\\qquad\\qquad\\qquad\\qquad\\mbox{if $Re_{out}< 2300$} \\\\\n",
    "    (1 - \\gamma_{out}) 4.364 + \\gamma_{out} \\left( \\frac{10^4 Pr (0.0308/8)}{1+12.7 \\sqrt{0.0308/8}(Pr^{2/3}-1)}\n",
    "    \\left[ 1 + \\left( \\frac{d_{out_i}}{L}\\right)^{2/3} \\right] \\right)\n",
    "  \\qquad\\mbox{if $2300 \\leq Re_{out}< 10^4$} \\\\\n",
    "  \\frac{Re_{out}<\\,Pr (\\xi_{out}/8) }{1+12.7\\sqrt{\\xi_{out}/8}(Pr^{2/3}-1) } \\left[ 1+ \\left( \\frac{d_{out_i}}{L} \\right)^{2/3} \\right] \n",
    "  \\qquad\\qquad\\qquad\\qquad\\qquad\\mbox{if $Re_{out}\\geq 10^4$}\n",
    " \\end{cases} \\\\\n",
    "  Nu_{in} &=& \\begin{cases}\n",
    "  3.66 + \\left[ 4 - \\frac{0.102}{\\frac{d_{out_o}}{d_{in_i}} +0.02 } \\right] \\left(\\frac{d_{out_o}}{d_{in_i}} \\right)^{0.04}\n",
    "  \\qquad\\qquad\\qquad\\qquad\\qquad\\qquad\\qquad\\qquad\\qquad\\qquad\\mbox{if $Re_{in}< 2300$} \n",
    "  \\\\\n",
    "    (1 - \\gamma_{in}) \n",
    "    \\left[ 3.66 + \\left( 4 - \\frac{0.102}{\\frac{d_{out_o}}{d_{in_i}} + 0.02} \\right)  \\right] \\left(\\frac{d_{out_o}}{d_{in_i}}\\right)^{0.04} + \\\\\n",
    "    \\gamma_{in} \\frac{ 10^4 Pr\\left( 0.0308/8 \\right) }{1+12.7 \\sqrt{0.0308/8} (Pr^{2/3} -1) } \n",
    "  \\left[ 1+ \\left( \\frac{d_{in}}{L} \\right)^{2/3} \\right] \n",
    "   \\frac{0.86 \\left( \\frac{d_{out_o}}{d_{in_i}} \\right)^{0.84} + \n",
    "  \\left[ 1 - 0.14 \\left( \\frac{d_{out_o}}{d_{in_i}} \\right)^{0.6} \\right] }{\n",
    "  1 + \\frac{d_{out_o}}{d_{in_i}} } \\qquad\\mbox{if $2300 \\leq Re_{in}< 10^4$}\n",
    "\\\\\n",
    "  \\frac{Re_{out}<\\,Pr (\\xi_{in}/8) }{1+12.7\\sqrt{\\xi_{in}/8}(Pr^{2/3}-1) } \\left[ 1+ \\left( \\frac{d_{in}}{L} \\right)^{2/3} \\right] \n",
    "   \\frac{0.86 \\left( \\frac{d_{out_o}}{d_{in_i}} \\right)^{0.84} + \n",
    "  \\left[ 1 - 0.14 \\left( \\frac{d_{out_o}}{d_{in_i}} \\right)^{0.6} \\right] }{\n",
    "  1 + \\frac{d_{out_o}}{d_{in_i}} } \n",
    "  \\qquad\\qquad\\qquad\\qquad\\qquad\\mbox{if $Re_{in}\\geq 10^4$}\n",
    " \\end{cases}\n",
    " \\end{eqnarray}"
   ]
  },
  {
   "cell_type": "code",
   "execution_count": 6,
   "metadata": {
    "collapsed": false
   },
   "outputs": [
    {
     "name": "stdout",
     "output_type": "stream",
     "text": [
      "U\n",
      "A_in: 0.0005391287152825444\n",
      "u_out: 0.31457969220507437\n",
      "Re_out: 18170.581837691472\n",
      "Pr: 3.5732924894613585\n",
      "Nu_out: 108.63440324127514\n"
     ]
    }
   ],
   "source": [
    "\n",
    "\n",
    "def calculate_flow(_d_out, _d_in, _w, _L, _Q, _c_f, _rho_f, _mu_f, _lambda_f):\n",
    "    _r_out = _d_out / 2\n",
    "    _r_in = _d_in / 2\n",
    "    _A_in = np.pi * _r_in * _r_in\n",
    "\n",
    "\n",
    "    if type is 'U':\n",
    "        _u_out = _Q / (np.pi * _r_out*_r_out)\n",
    "    elif type is '2U':\n",
    "        _u_out = _Q / (2 * np.pi * _r_out*_r_out)\n",
    "\n",
    "    _Re_out= _u_out * _d_out * _rho_f / _mu_f\n",
    "    _xi_out = (1.8 * np.log10(_Re_out) - 1.5)**(-2)\n",
    "    #xi = (0.79 * np.log(Re) - 1.64)**(-2)\n",
    "    _gamma = (_Re_out - 2300.) / 7700\n",
    "\n",
    "    _Pr = _mu_f * _c_f / _lambda_f\n",
    "\n",
    "    if _Re_out < 2300:\n",
    "        _Nu_out = 4.364\n",
    "    elif _Re_out < 10000:\n",
    "        _Nu_out =  (1 - _gamma_out) * 4.364 + _gamma_out *(1 + (_d_out / _L)**0.66666667) * 10000 * _Pr * (0.0308/8) / \\\n",
    "        (1+12.7* np.sqrt(0.0308/8) * (_Pr**0.66666667 - 1))\n",
    "        #Nu =  (1 - gamma) * 4.364 + gamma(1 + (d_i / L)**0.66666667) * 38.5 * Pr / (1 + 0.7880142765 * (Pr**0.66666667 - 1))\n",
    "    else:\n",
    "        _Nu_out = (1 + (_d_out / _L)**0.66666667) * _Re_out * _Pr * (_xi_out/8) / \\\n",
    "        (1+12.7* np.sqrt(_xi_out/8) * (_Pr**0.66666667 - 1))\n",
    "        #Nu = (Re - 1000) * Pr * (xi/8) / (1+12.7* np.sqrt(xi/8) * (Pr**0.66666667 - 1))\n",
    "\n",
    "    return (_A_in, _u_out, _Re_out, _Pr, _Nu_out)\n",
    "    \n",
    "\n",
    "(A_in, u_out, Re_out, Pr, Nu_out) = calculate_flow(d_out, d_in, w, L, Q, c_f, rho_f, mu_f, lambda_f)   \n",
    "        \n",
    "if type is 'U':\n",
    "    print('U')\n",
    "elif type is '2U':\n",
    "    print('2U')             \n",
    "\n",
    "print('A_in: {}'.format(A_in))\n",
    "print('u_out: {}'.format(u_out))\n",
    "print('Re_out: {}'.format(Re_out))\n",
    "print('Pr: {}'.format(Pr))\n",
    "print('Nu_out: {}'.format(Nu_out))"
   ]
  },
  {
   "cell_type": "markdown",
   "metadata": {},
   "source": [
    "### U\n",
    "\n",
    "\\begin{eqnarray}\n",
    "x &=& \\frac{ \\ln\\left( \\frac{\\sqrt{D^2  + 2 d_o^2} } { 2 d_0}   \\right) } \n",
    "{ \\ln\\left( \\frac{D}{\\sqrt{2} d_o} \\right) } \n",
    "\\\\\n",
    "R_g &=& \\frac{\\arcosh\\left( \\frac{D^2 + d_o^2 - w^2 }{2 D d_o} \\right)} {2\\pi \\lambda_g} \\left( 1.601 - 0.888 \\frac{w}{D}  \\right)  \\\\\n",
    "R_{ar} &=& \\frac{\\arcosh\\left( \\frac{2 w^2 - d_o^2}{d_o^2} \\right)}{2\\pi \\lambda_g}\n",
    "\\end{eqnarray}\n",
    "\n",
    "### 2U\n",
    "\n",
    "\\begin{eqnarray}\n",
    "x &=& \\frac{ \\ln\\left( \\frac{\\sqrt{D^2  + 4 d_o^2} } { 2 \\sqrt{2} d_0}   \\right) } \n",
    "{ \\ln\\left( \\frac{D}{2 d_o} \\right) } \n",
    "\\\\\n",
    "R_g &=& \\frac{\\arcosh\\left( \\frac{D^2 + d_o^2 - s^2 }{2 D d_o} \\right)} {2\\pi \\lambda_g} \\left( 3.098 - 4.432 \\frac{s}{D} + 2.364 \\frac{s^2}{D^2} \\right)  \\\\\n",
    "R_{ar1} &=& \\frac{\\arcosh\\left( \\frac{s^2 - d_o^2}{d_o^2} \\right)}{2\\pi \\lambda_g} \\\\\n",
    "R_{ar2} &=& \\frac{\\arcosh\\left( \\frac{2 s^2 - d_o^2}{d_o^2} \\right)}{2\\pi \\lambda_g}\n",
    "\\end{eqnarray}"
   ]
  },
  {
   "cell_type": "code",
   "execution_count": 7,
   "metadata": {
    "collapsed": false
   },
   "outputs": [
    {
     "name": "stdout",
     "output_type": "stream",
     "text": [
      "x: 0.7257634896627004\n",
      "R_g: 0.09386725156776805\n",
      "R_ar1: 0.1718289941788396\n"
     ]
    }
   ],
   "source": [
    "\n",
    "def calculate_resistance_basic(_D, _d_out, _w, _lambda_g):\n",
    "\n",
    "    if type is 'U':\n",
    "        _x = np.log(np.sqrt(_D*_D + 2*_d_out*_d_out) / (2*_d_out)) / np.log(_D/ (1.41421356*_d_out))\n",
    "        _R_g = (1.601 - 0.888 * _w/_D) * np.arccosh( (_D*_D + _d_out*_d_out - _w*_w) / (2*_D*_d_out) ) / \\\n",
    "        (2*np.pi * _lambda_g)\n",
    "        _R_ar1 = np.arccosh( (2 * _w*_w - _d_out*_d_out) / (_d_out*_d_out) ) / (2 * np.pi * _lambda_g)\n",
    "        _R_ar2 = -10000.\n",
    "    elif type is '2U':\n",
    "        _s = _w * 1.41421356\n",
    "        _x = np.log(np.sqrt(_D*_D + 4*_d_out*_d_out) / (2.8284271247461903*_d_out)) / np.log(_D/ (2*_d_out))\n",
    "        _R_g = (3.098 - (4.432 * _w/_D) + 2.364 * _s*_s/(_D*_D) ) * np.arccosh( (_D*_D + _d_out*_d_out - _s*_s) / \\\n",
    "        (2*_D*_d_out) ) / (2*np.pi * _lambda_g)\n",
    "        _R_ar1 = np.arccosh( (_s*_s - _d_out*_d_out) / (_d_out*_d_out) ) / (2 * np.pi * _lambda_g)\n",
    "        _R_ar2 = np.arccosh( (2 * _s*_s - _d_out*_d_out) / (_d_out*_d_out) ) / (2 * np.pi * _lambda_g)\n",
    "    \n",
    "    return (_x, _R_g, _R_ar1, _R_ar2)\n",
    "\n",
    "(x, R_g, R_ar1, R_ar2) = calculate_resistance_basic(D, d_out, w, lambda_g)\n",
    "\n",
    "print('x: {}'.format(x))\n",
    "print('R_g: {}'.format(R_g))\n",
    "if type is 'U':\n",
    "    print('R_ar1: {}'.format(R_ar1))\n",
    "elif type is '2U':\n",
    "    print('R_ar1: {}'.format(R_ar1))\n",
    "    print('R_ar2: {}'.format(R_ar2))"
   ]
  },
  {
   "cell_type": "markdown",
   "metadata": {},
   "source": [
    "### U / 2U\n",
    "\n",
    "\\begin{eqnarray}\n",
    "R_{adv} &=& \\frac{1}{Nu\\, \\lambda_f\\pi} \\\\\n",
    "R_{con}^a &=& \\frac{\\ln(r_0 / r_i)}{2 \\pi \\lambda_p} \\\\\n",
    "R_{con}^b &=& x R_g\n",
    "\\end{eqnarray}\n",
    "\n",
    "### CAX\n",
    "\n",
    "\\begin{eqnarray}\n",
    "R_{adv_{out}} &=& \\frac{1}{Nu_{out}\\, \\lambda_f\\pi} \\\\\n",
    "R_{adv_{in}}^a &=& \\frac{1}{Nu_{in}\\, \\lambda_f\\pi} \\frac{d_{in}}{d_{out_{o}}} \\\\\n",
    "R_{adv_{in}}^b &=& \\frac{1}{Nu_{in}\\, \\lambda_f\\pi} \\frac{d_{in}}{d_{in_{i}}} \\\\\n",
    "R_{con}^a &=& \\frac{\\ln(r_0 / r_i)}{2 \\pi \\lambda_p} \\\\\n",
    "R_{con}^b &=& x R_g \\\\\n",
    "d_{in} &=& d_{in_{i}} - d_{out_o}\n",
    "\\end{eqnarray}"
   ]
  },
  {
   "cell_type": "code",
   "execution_count": 9,
   "metadata": {
    "collapsed": false
   },
   "outputs": [
    {
     "name": "stdout",
     "output_type": "stream",
     "text": [
      "R_adv_out: 0.004574710439681019\n",
      "R_con_out_a: 0.08375591370836136\n",
      "R_con_out_b: 0.06812542406286994\n"
     ]
    }
   ],
   "source": [
    "def calculate_resistance_pipe(_d_out, _d_in, _x, _Nu_out, _R_g, _lambda_f, _lambda_p):\n",
    "\n",
    "    _R_adv_out = 1. / (_Nu_out * _lambda_f * np.pi)\n",
    "    _R_con_out_a = np.log(_d_out / _d_in) / (2*np.pi * _lambda_p)\n",
    "    _R_con_out_b = _x * _R_g\n",
    "\n",
    "    return (_R_adv_out, _R_con_out_a, _R_con_out_b)\n",
    "\n",
    "(R_adv_out, R_con_out_a, R_con_out_b) = calculate_resistance_pipe(d_out, d_in, x, \n",
    "                                                                  Nu_out, R_g, lambda_f, lambda_p)\n",
    "\n",
    "print('R_adv_out: {}'.format(R_adv_out))\n",
    "print('R_con_out_a: {}'.format(R_con_out_a))\n",
    "print('R_con_out_b: {}'.format(R_con_out_b))"
   ]
  },
  {
   "cell_type": "markdown",
   "metadata": {},
   "source": [
    "\\begin{eqnarray}\n",
    "R_{fg} &=& R_{adv} + R_{con}^a + R_{con}^b \\\\\n",
    "R_{gs} &=& (1-x) R_g \n",
    "\\end{eqnarray}\n",
    "\n",
    "### U\n",
    "\n",
    "\\begin{eqnarray}\n",
    "R_{gg} &=& \\frac{2 R_{gs} \\left( R_{ar} - 2x R_g \\right)}{2 R_{gs} - R_{ar} + 2x R_g} \n",
    "\\end{eqnarray}\n",
    "\n",
    "### 2U\n",
    "\n",
    "\\begin{eqnarray}\n",
    "R_{gg1} &=& \\frac{2 R_{gs} \\left( R_{ar1} - 2x R_g \\right)}{2 R_{gs} - R_{ar1} + 2x R_g} \\\\\n",
    "R_{gg2} &=& \\frac{2 R_{gs} \\left( R_{ar2} - 2x R_g \\right)}{2 R_{gs} - R_{ar2} + 2x R_g}\n",
    "\\end{eqnarray}\n",
    "\n",
    "### CXA\n",
    "\n",
    "\n",
    "\\begin{eqnarray}\n",
    "R_{ff} &=& R_{adv_{in}}^a + R_{adv_{out}} + R_{con_{out}}^a \\\\\n",
    "R_{fg} &=& R_{adv_{in}}^b + R_{con_{in}}^a + R_{con_{in}}^b \n",
    "\\end{eqnarray}\n",
    "\n",
    "-----\n",
    "## From TRT\n",
    "\n",
    "### U\n",
    "\n",
    "\\begin{eqnarray}\n",
    "R_{fg} &=& R_b \\\\\n",
    "R_{gs} &=& R_b \\\\\n",
    "R_{gg} &=& \\frac{2R_b(R_a-2R_b)}{4R_b -R_a} \n",
    "\\end{eqnarray}\n",
    "\n",
    "-----\n",
    "\\begin{eqnarray}\n",
    "R_{g} &=& 2R_b - R_{adv} - R_{con}^a \\\\\n",
    "R_{ar} &=& R_a - 2(R_{adv} + R_{con}^a) \\\\\n",
    "\\end{eqnarray}\n",
    "\n",
    "### 2U\n",
    "\n",
    "\\begin{eqnarray}\n",
    "R_{fg} &=& 2R_b \\\\\n",
    "R_{gs} &=& 2R_b \\\\\n",
    "R_{gg1} &=& \\frac{8R_b(R_a-2R_b)}{4R_b -R_a} \\\\\n",
    "R_{gg2} &=& R_{gg1}\n",
    "\\end{eqnarray}\n",
    "\n",
    "-----\n",
    "\\begin{eqnarray}\n",
    "R_{g} &=& 4R_b - R_{adv} - R_{con}^a \\\\\n",
    "R_{ar1} &=& \\frac{(2 + \\sqrt{2})R_g  (R_a - R_{adv} - R_{con}^a)}\n",
    "{R_g + R_a -R_{adv} - R_{cond}^a} \\\\\n",
    "R_{ar2} &=& \\sqrt{2} R_{ar1}\n",
    "\\end{eqnarray}\n"
   ]
  },
  {
   "cell_type": "code",
   "execution_count": 10,
   "metadata": {
    "collapsed": false
   },
   "outputs": [
    {
     "name": "stdout",
     "output_type": "stream",
     "text": [
      "R_fg: 0.1564560482109123\n",
      "R_gs: 0.02574182750489812\n",
      "R_gg1 (can be negative): 0.11516091703024402\n",
      "constraint (should be positive): 0.03557814605309973\n"
     ]
    }
   ],
   "source": [
    "def calculate_resistance(_x, _R_g, _R_ar1, _R_ar2, _R_adv_out, _R_con_out_a, _R_con_out_b):\n",
    "\n",
    "    _R_fg = _R_adv_out + _R_con_out_a + _R_con_out_b\n",
    "    _R_gs = (1 - _x) * _R_g\n",
    "\n",
    "    #R_ar = .226 # .187\n",
    "    if type is 'U':\n",
    "        _R_gg1 = 2 * _R_gs * (_R_ar1 - 2*_x*_R_g) / (2*_R_gs - _R_ar1 + 2*_x*_R_g)\n",
    "        _R_gg2 = -10000.\n",
    "        #R_fg = 0.15577\n",
    "        #R_gs = 0.02574\n",
    "        #R_gg = 0.11516\n",
    "    elif type is '2U':\n",
    "        _R_gg1 = 2 * _R_gs * (_R_ar1 - 2*_x*_R_g) / (2*_R_gs - _R_ar1 + 2*_x*_R_g)\n",
    "        _R_gg2 = 2 * _R_gs * (_R_ar2 - 2*_x*_R_g) / (2*_R_gs - _R_ar2 + 2*_x*_R_g)\n",
    "        #R_fg = 0.14485\n",
    "        #R_gs = 0.06833\n",
    "        #R_gg1 = 0.00031\n",
    "        #R_gg2 = 0.11776\n",
    "    \n",
    "    return (_R_fg, _R_gs, _R_gg1, _R_gg2)\n",
    "\n",
    "(R_fg, R_gs, R_gg1, R_gg2) = calculate_resistance(x, R_g, R_ar1, R_ar2, R_adv_out, R_con_out_a, R_con_out_b)\n",
    "#R_fg = R_b\n",
    "#R_gs = R_b\n",
    "#R_gg = 2 * R_b * (R_a-2*R_b) / (4*R_b - R_a)\n",
    "\n",
    "print('R_fg: {}'.format(R_fg))\n",
    "print('R_gs: {}'.format(R_gs))\n",
    "if type is 'U':\n",
    "    print('R_gg1 (can be negative): {}'.format(R_gg1))\n",
    "    print('constraint (should be positive): {}'.format(1/( (1/R_gg1) + (.5/R_gs)  )))\n",
    "elif type is '2U':\n",
    "    print('R_gg1 (can be negative): {}'.format(R_gg1))\n",
    "    print('R_gg2 (can be negative): {}'.format(R_gg2))\n",
    "    print('constraint (should be positive): {}'.format(1/( (1/R_gg1) + (.5/R_gs)  )))\n",
    "    print('constraint (should be positive): {}'.format(1/( (1/R_gg2) + (.5/R_gs)  )))"
   ]
  },
  {
   "cell_type": "markdown",
   "metadata": {},
   "source": [
    "### U\n",
    "\n",
    "\\begin{eqnarray}\n",
    "u_1 &=& \\frac{1}{R_{fg}} + \\frac{1}{R_{gs}} + \\frac{1}{R_{gg}} \\\\\n",
    "R_1^\\Delta &=& R_{fg} + R_{gs} \\\\\n",
    "R_{12}^\\Delta &=& \\frac{(u_1 R_{fg} R_{gg})^2 - R_{fg}^2 } {R_{gg}} \n",
    "\\end{eqnarray}\n",
    "\n",
    "### U2\n",
    "\n",
    "\\begin{eqnarray}\n",
    "v &=& \\frac{R_{gg1}R_{gg2}}{2(R_{gg1}+R_{gg2})} \\\\\n",
    "u_2 &=& \\frac{2}{R_{fg}} + \\frac{2}{R_{gs}} + \\frac{1}{v} \\\\\n",
    "R_1^\\Delta &=& \\frac{R_{fg} + R_{gs}}{2} \\\\\n",
    "R_{12}^\\Delta &=& \\frac{ R_{fg}^2 } {4} \\left( u_2^2 v - \\frac{1}{v} \\right)\n",
    "\\end{eqnarray}\n",
    "\n",
    "### CXA\n",
    "\n",
    "\\begin{eqnarray}\n",
    "R_1^\\Delta &=& R_{fg} + R_{gs} \\\\\n",
    "R_{12}^\\Delta &=& R_{ff}\n",
    "\\end{eqnarray}"
   ]
  },
  {
   "cell_type": "code",
   "execution_count": 11,
   "metadata": {
    "collapsed": false
   },
   "outputs": [
    {
     "name": "stdout",
     "output_type": "stream",
     "text": [
      "u_1: 53.92235366295716\n",
      "v: -10000.0\n",
      "R_1_Delta: 0.18219787571581042\n",
      "R_12_Delta: 7.983923313549383\n"
     ]
    }
   ],
   "source": [
    "def calculate_resistance_delta(_R_fg, _R_gs, _R_gg1, _R_gg2):\n",
    "\n",
    "    if type is 'U':\n",
    "        _v = -10000.\n",
    "        _u_1 = (1 / _R_fg) + (1 / _R_gs) + (1 / _R_gg1)\n",
    "        _R_1_Delta = _R_fg + _R_gs\n",
    "        _R_12_Delta = ( (_u_1 * _R_fg * _R_gg1)*(_u_1 * _R_fg * _R_gg1) - _R_fg*_R_fg) / _R_gg1\n",
    "\n",
    "        #print('u_1: {}'.format(u_1))    \n",
    "    elif type is '2U':\n",
    "        _v = _R_gg1 * _R_gg2 / (2*(_R_gg1 + _R_gg2))\n",
    "        _u_1 = (2 / _R_fg) + (2 / _R_gs) + (1 / _v)\n",
    "        _R_1_Delta = (_R_fg + _R_gs) / 2\n",
    "        _R_12_Delta = (_u_1 * _u_1 * _v - (1/_v)) * _R_fg * _R_fg / 4\n",
    "\n",
    "        #print('v: {}'.format(v))    \n",
    "        #print('u_2: {}'.format(u_2))\n",
    "    \n",
    "    return (_R_1_Delta, _R_12_Delta, _u_1, _v)\n",
    "\n",
    "(R_1_Delta, R_12_Delta, u_1, v) = calculate_resistance_delta(R_fg, R_gs, R_gg1, R_gg2)\n",
    "\n",
    "print('u_1: {}'.format(u_1))\n",
    "print('v: {}'.format(v))\n",
    "print('R_1_Delta: {}'.format(R_1_Delta))\n",
    "print('R_12_Delta: {}'.format(R_12_Delta))"
   ]
  },
  {
   "cell_type": "markdown",
   "metadata": {},
   "source": [
    "### U / 2U\n",
    "\n",
    "\\begin{eqnarray}\n",
    " \\beta_1 &=& \\frac{1}{R_1^\\Delta A_i \\rho_f c_f u} \\\\\n",
    " \\beta_{12} &=& \\frac{1}{R_{12}^\\Delta A_i \\rho_f c_f u} \\\\\n",
    " \\gamma &=& \\sqrt{\\beta_1^2 + 2 \\beta_{12} \\beta_1} \\\\\n",
    " \\delta &=& \\frac{1}{\\gamma} \\left( \\beta_{12} + \\beta_1 \\right)\n",
    "\\end{eqnarray}\n",
    "\n",
    "### CXA\n",
    "\n",
    "\\begin{eqnarray}\n",
    " \\beta_1 &=& \\frac{1}{R_1^\\Delta A_i \\rho_f c_f u} \\\\\n",
    " \\beta_2 &=& 0 \\\\\n",
    " \\beta_{12} &=& \\frac{1}{R_{12}^\\Delta A_i \\rho_f c_f u} \\\\\n",
    " \\beta &=& -\\frac{\\beta_1}{2} \\\\\n",
    " \\gamma &=& \\sqrt{\\frac{\\beta_1^2}{4} + \\beta_{12} \\beta_1} \\\\\n",
    " \\delta &=& \\frac{1}{\\gamma} \\left( \\beta_{12} + \\frac{\\beta_1}{2} \\right)\n",
    "\\end{eqnarray}\n"
   ]
  },
  {
   "cell_type": "code",
   "execution_count": 12,
   "metadata": {
    "collapsed": false
   },
   "outputs": [
    {
     "name": "stdout",
     "output_type": "stream",
     "text": [
      "beta_1: 0.007833532878142735\n",
      "beta_2: 0.00017876587658668985\n",
      "gamma: 0.008010304244933951\n",
      "delta: 1.000248993013809\n"
     ]
    }
   ],
   "source": [
    "def calculate_greeks(_A_in, _u_out, _rho_f, _c_f, _R_1_Delta, _R_12_Delta):\n",
    "    _beta_1 = 1 / (_R_1_Delta * _A_in * _rho_f * _c_f * _u_out )\n",
    "    _beta_12 = 1 / (_R_12_Delta * _A_in * _rho_f * _c_f * _u_out )\n",
    "    _gamma = np.sqrt(_beta_1 * (_beta_1 + 2 * _beta_12))\n",
    "    _delta = (_beta_1 + _beta_12) / _gamma\n",
    "    \n",
    "    return (_beta_1, _beta_12, _gamma, _delta)\n",
    "\n",
    "(beta_1, beta_12, gamma, delta) = calculate_greeks(A_in, u_out, rho_f, c_f, R_1_Delta, R_12_Delta)\n",
    "\n",
    "print('beta_1: {}'.format(beta_1))\n",
    "print('beta_2: {}'.format(beta_12))\n",
    "print('gamma: {}'.format(gamma))\n",
    "print('delta: {}'.format(delta))"
   ]
  },
  {
   "cell_type": "markdown",
   "metadata": {},
   "source": [
    "### U / 2U\n",
    "\n",
    "\\begin{eqnarray}\n",
    " f_1(z) &=& \\cosh(\\gamma z) - \\delta \\sinh(\\gamma z) \\\\\n",
    " f_2(z) &=& \\frac{\\beta_{12}}{\\gamma} \\sinh(\\gamma z) \\\\ \n",
    " f_3(z) &=& \\cosh(\\gamma z) + \\delta \\sinh(\\gamma z) \\\\ \n",
    " f_4(z) &=& \\beta_1 \\left[\\cosh(\\gamma z) - \n",
    " \\left( \\delta + \\frac{ \\beta_{12}}{\\gamma} \\right) \\sinh(\\gamma z) \\right] \\\\ \n",
    " f_5(z) &=& \\beta_1 \\left[ \\cosh(\\gamma z) + \n",
    " \\left( \\delta + \\frac{\\beta_{12}} {\\gamma} \\right) \\sinh(\\gamma z) \\right]\n",
    "\\end{eqnarray}\n",
    "\n",
    "### CXA\n",
    "\n",
    "\\begin{eqnarray}\n",
    " f_1(z) &=& e^{\\beta z} \\left[\\cosh(\\gamma z) - \\delta \\sinh(\\gamma z) \\right] \\\\\n",
    " f_2(z) &=& e^{\\beta z}\\frac{\\beta_{12}}{\\gamma} \\sinh(\\gamma z) \\\\ \n",
    " f_3(z) &=& e^{\\beta z}\\left[\\cosh(\\gamma z) + \\delta \\sinh(\\gamma z) \\right] \\\\ \n",
    " f_4(z) &=& e^{\\beta z}\\beta_1 \\left[\\cosh(\\gamma z) - \\delta  \\sinh(\\gamma z) \\right] \\\\ \n",
    " f_5(z) &=& e^{\\beta z}  \\frac{\\beta_1\\beta_{12}}\n",
    " {\\gamma} \\sinh(\\gamma z) \n",
    "\\end{eqnarray}"
   ]
  },
  {
   "cell_type": "code",
   "execution_count": 13,
   "metadata": {
    "collapsed": false
   },
   "outputs": [],
   "source": [
    "def provide_functions(_N, _L, _beta_12, _gamma, _delta):\n",
    "\n",
    "    _Delta_L = _L / (_N-1)\n",
    "    _depth = np.arange(0, _N*_Delta_L, _Delta_L)\n",
    "    _gdepth = _gamma*_depth\n",
    "\n",
    "    _f1 = np.cosh(_gdepth) - _delta * np.sinh(_gdepth)\n",
    "    _f2 = np.sinh(_gdepth) * _beta_12 / _gamma\n",
    "    _f3 = np.cosh(_gdepth) + _delta * np.sinh(_gdepth)\n",
    "    #f4 = beta_1 * (np.cosh(gdepth) - delta - np.sinh(gdepth) * beta_12 / gamma)\n",
    "    #f5 = beta_1 * (np.cosh(gdepth) + delta + np.sinh(gdepth) * beta_12 / gamma)\n",
    "\n",
    "    return (_f1, _f2, _f3, _Delta_L, _depth)\n",
    "\n",
    "(f1, f2, f3, Delta_L, depth) = provide_functions(N, L, beta_12, gamma, delta)\n",
    "\n",
    "def F4(_z, _a, _b, _beta_1, _beta_12, _gamma, _delta):\n",
    "    return ((-np.sinh(_gamma*(_z-_b)) + np.sinh(_gamma*(_z-_a))) * _beta_1 + \\\n",
    "            (np.cosh(_gamma*(_z-_b)) - np.cosh(_gamma*(_z-_a)) )* \\\n",
    "            (_delta*_beta_1 + _beta_1 * _beta_12/_gamma) )/ _gamma\n",
    "\n",
    "def F5(_z, _a, _b, _beta_1, _beta_12, _gamma, _delta):\n",
    "    return ((-np.sinh(_gamma*(_z-_b)) + np.sinh(_gamma*(_z-_a))) * _beta_1 - \\\n",
    "            (np.cosh(_gamma*(_z-_b)) - np.cosh(_gamma*(_z-_a)) )* \\\n",
    "            (_delta*_beta_1 + _beta_1 * _beta_12/_gamma) )/ _gamma\n"
   ]
  },
  {
   "cell_type": "markdown",
   "metadata": {},
   "source": [
    "\\begin{eqnarray}\n",
    "T_o(t) &=& T_i(t) \\frac{f_1(L) + f_2(L)}{f_3(L) - f_2(L)} + \n",
    "\\int_0^L \\frac{T_s(\\xi, t) \\left[ f_4(L-\\xi) + f_5(L-\\xi) \\right]}{f_3(L) - f_2(L)} \\,d\\xi \\\\\n",
    "T_i(z, t) &=& T_i(t) f_1(z) + T_o(t) f_2(z) + \\int_0^z T_s(\\xi, t) f_4(z-\\xi)\\, d\\xi \\\\\n",
    "T_o(z, t) &=& -T_i(t) f_2(z) + T_o(t) f_3(z) - \\int_0^z T_s(\\xi, t) f_5(z-\\xi)\\, d\\xi\n",
    "\\end{eqnarray}\n",
    "\n",
    "### U\n",
    "\n",
    "\\begin{eqnarray}\n",
    "T_{gi}(z, t) &=&  \\frac{\\left[ \\frac{T_s(z, t)}{R_{gs}} + \\frac{T_o(z, t)}{R_{fg}} + \n",
    "\\left( \\frac{T_s(z, t)}{R_{gs}} + \\frac{T_i(z, t)}{R_{fg}}  \\right) u_1 R_{gg}  \\right] R_{gg}}{R_{gg}^2 u_1^2 - 1} \\\\\n",
    "T_{go}(z, t) &=& \\left( \\frac{T_{g1}(z, t)}{R_{gg}} + \\frac{T_{o}(z, t)}{R_{fg}} + \\frac{T_{s}(z, t)}{R_{gs}} \\right) \\frac{1}{u_1}\n",
    "\\end{eqnarray}\n",
    "\n",
    "### 2U\n",
    "\n",
    "\\begin{eqnarray}\n",
    "T_{gi}(z, t) &=&  \\left[ \\frac{2T_s(z, t)}{R_{gs}} + \\frac{2T_o(z, t)}{R_{fg}} + \n",
    "\\left( \\frac{2T_s(z, t)}{R_{gs}} + \\frac{2T_i(z, t)}{R_{fg}}  \\right) u_2 v \\right]\n",
    " \\frac{v}{v^2 u_2^2 -1}  \\\\\n",
    "T_{go}(z, t) &=& \\left( \\frac{T_{g1}(z, t)}{v} + \\frac{2T_{o}(z, t)}{R_{fg}} + \\frac{2T_{s}(z, t)}{R_{gs}} \\right) \\frac{1}{u_2}\n",
    "\\end{eqnarray}"
   ]
  },
  {
   "cell_type": "code",
   "execution_count": 14,
   "metadata": {
    "collapsed": false
   },
   "outputs": [],
   "source": [
    "def calculate_temperatures(_f1, _f2, _f3, _N, _L, _Delta_L, _T_in, _T_s_profile, \n",
    "                           _R_fg, _R_gs, _R_gg1, _R_gg2, _v, _u_1, _beta_1, _beta_12, _gamma, _delta):\n",
    "\n",
    "\n",
    "    _T_out = _T_in * (_f1[_N-1] + _f2[_N-1])\n",
    "    z  = 0.\n",
    "    for i in range(0, _N-1):\n",
    "        _T_out += (F4(_L, z, z+_Delta_L, _beta_1, _beta_12, _gamma, _delta) + \\\n",
    "                F5(_L, z, z+_Delta_L, _beta_1, _beta_12, _gamma, _delta) ) * \\\n",
    "                    (_T_s_profile[i] + _T_s_profile[i+1]) / 2\n",
    "        z += _Delta_L\n",
    "    _T_out /= (_f3[_N-1] - _f2[_N-1])\n",
    "\n",
    "    _T_i_profile = np.empty(_N)\n",
    "    _T_out_profile = np.empty(_N)\n",
    "    _T_in_profile = _T_in * _f1 + _T_out * _f2\n",
    "    _T_out_profile = -_T_in * _f2 + _T_out * _f3\n",
    "\n",
    "    z = 0.\n",
    "    for i in range(1, _N):\n",
    "        z2 = 0.\n",
    "        for j in range(i):\n",
    "            _T_in_profile[i] += F4(z, z2, z2+_Delta_L, _beta_1, _beta_12, _gamma, _delta) * \\\n",
    "                                (_T_s_profile[j-1] + _T_s_profile[j]) / 2\n",
    "            _T_out_profile[i] -= F5(z, z2, z2+_Delta_L, _beta_1, _beta_12, _gamma, _delta) * \\\n",
    "                                (_T_s_profile[j-1] + _T_s_profile[j]) / 2\n",
    "            z2 += _Delta_L\n",
    "        z += _Delta_L\n",
    "\n",
    "    if type is 'U':\n",
    "        _T_gin_profile = ((_T_s_profile / _R_gs) +  (_T_out_profile / _R_fg) +  \\\n",
    "                         ( (_T_s_profile/_R_gs) + \n",
    "                          (_T_in_profile / _R_fg) ) * _u_1 * _R_gg1 ) * _R_gg1 / \\\n",
    "            ( _R_gg1 * _R_gg1 * _u_1 * _u_1 -1)\n",
    "        _T_gout_profile = ((_T_gin_profile / _R_gg1) +  (_T_out_profile / _R_fg) + \\\n",
    "                         (_T_s_profile / _R_gs)) / _u_1\n",
    "    elif type is '2U':\n",
    "        _T_gi_profile = ((_T_s_profile / _R_gs) +  (_T_out_profile /_R_fg) +  \\\n",
    "                         ( (_T_s_profile/_R_gs) + (_T_in_profile / _R_fg) ) * _u_1 * _v ) * 2 * _v / \\\n",
    "                ( _v*_v * _u_1 * _u_1 -1 )\n",
    "        _T_gout_profile = ((_T_gin_profile / _v) +  (2*_T_out_profile / _R_fg) + \\\n",
    "                         (2*_T_s_profile / _R_gs)) / _u_1\n",
    "    \n",
    "    return (_T_in_profile, _T_out_profile, _T_gin_profile, _T_gout_profile)\n",
    "\n",
    "\n",
    "(T_in_profile, T_out_profile, T_gin_profile, T_gout_profile) = \\\n",
    "calculate_temperatures(f1, f2, f3, N, L, Delta_L, T_in, T_s_profile, R_fg, R_gs, R_gg1, R_gg2, v, u_1, \\\n",
    "                       beta_1, beta_12, gamma, delta)\n"
   ]
  },
  {
   "cell_type": "code",
   "execution_count": 15,
   "metadata": {
    "collapsed": false
   },
   "outputs": [
    {
     "data": {
      "text/plain": [
       "<matplotlib.figure.Figure at 0x7fa4948713c8>"
      ]
     },
     "metadata": {},
     "output_type": "display_data"
    },
    {
     "data": {
      "image/png": "[encoded data removed]",
      "text/plain": [
       "<matplotlib.figure.Figure at 0x7fa494871e80>"
      ]
     },
     "metadata": {},
     "output_type": "display_data"
    }
   ],
   "source": [
    "def do_plot(_T_in_profile, _T_out_profile, _T_gin_profile, _T_gout_profile, _T_s_profile, _D, _d_out, _w, setting):\n",
    "    plt.figure(1, figsize=(12, 5))\n",
    "\n",
    "    #ax = plt.subplot(121)\n",
    "    #fig, axes = plt.subplots(1, 2, figsize=(12,5))\n",
    "    fig, (ax1, ax2) = plt.subplots(1, 2, figsize=(12,5))\n",
    "    \n",
    "    ax1.plot(_T_in_profile, -depth, label='T_i', color='b')\n",
    "    ax1.plot(_T_out_profile, -depth, label='T_o', color='b', linestyle='--')\n",
    "\n",
    "    ax1.plot(_T_gin_profile, -depth, label='T_gi', color='grey')\n",
    "    ax1.plot(_T_gout_profile, -depth, label='T_go', color='grey', linestyle='--')\n",
    "\n",
    "    ax1.plot(_T_s_profile, -depth, label='T_s', color='orange')\n",
    "    \n",
    "    ax1.grid(True)\n",
    "    ax1.legend(loc='lower right')\n",
    "    \n",
    "    pipe_color = 'blue' if setting else 'red'\n",
    "\n",
    "    #ax = plt.subplot(122)\n",
    "    #plt.subplots_adjust(wspace=.5)\n",
    "    \n",
    "    ax2.set_xlim((-.1,.1))\n",
    "    ax2.set_ylim((-.1,.1))\n",
    "    ax2.grid(True)\n",
    "    \n",
    "    ax2.add_patch(patches.Circle((0, 0), _D/2, \n",
    "                                 facecolor='grey', edgecolor='black', linewidth=2))\n",
    "    \n",
    "    ax2.add_patch(patches.Circle((_w/2, 0), _d_out/2, \n",
    "                                 facecolor=pipe_color, edgecolor='black', linewidth=2))\n",
    "    ax2.add_patch(patches.Circle((-_w/2, 0), _d_out/2, \n",
    "                                 facecolor=pipe_color, edgecolor='black', linewidth=2))\n",
    "    if type is '2U':\n",
    "        ax2.add_patch(patches.Circle((0, _w/2), -_d_out/2, \n",
    "                                 facecolor=pipe_color, edgecolor='black', linewidth=2))\n",
    "        ax2.add_patch(patches.Circle((0, -_w/2), -_d_out/2, \n",
    "                                 facecolor=pipe_color, edgecolor='black', linewidth=2))\n",
    "    \n",
    "    \n",
    "do_plot(T_in_profile, T_out_profile, T_gin_profile, T_gout_profile, T_s_profile, D, d_out, w, True)"
   ]
  },
  {
   "cell_type": "code",
   "execution_count": 17,
   "metadata": {
    "collapsed": false
   },
   "outputs": [
    {
     "name": "stdout",
     "output_type": "stream",
     "text": [
      "x:     0.7258   R_adv_out:   0.0046   R_fg:  0.1565   beta_1:  0.0078   u:  0.3146\n",
      "R_g:   0.0939   R_con_out_a: 0.0838   R_gs:  0.0257   beta_12: 0.0002   Re_out:  18170.5818\n",
      "R_ar1: 0.1718   R_con_out_b: 0.0681   R_gg1: 0.1152   gamma:  0.0080    Pr:  3.5733\n",
      "R_ar2: -10000.0000                     R_gg2: -10000.0000   delta:  1.0002   Nu_out:  108.6344\n",
      "T_in:  80.0000  T_gin: 18.8092 \n",
      "T_out: 24.8513  T_gout: 13.1790 \n",
      "Setup: True  Constraint1: 0.0356  Constraint 2: 0.0515\n"
     ]
    },
    {
     "data": {
      "text/plain": [
       "<matplotlib.figure.Figure at 0x7fa494672e48>"
      ]
     },
     "metadata": {},
     "output_type": "display_data"
    },
    {
     "data": {
      "image/png": "[encoded data removed]",
      "text/plain": [
       "<matplotlib.figure.Figure at 0x7fa49465eda0>"
      ]
     },
     "metadata": {},
     "output_type": "display_data"
    }
   ],
   "source": [
    "def calculate(_D, _w, _d_out, _b, _Q, _lambda_g):\n",
    "    _d_in = d_out - 2*_b\n",
    "    \n",
    "    (A_in, u_out, Re_out, Pr, Nu_out) = calculate_flow(_d_out, _d_in, _w, L, _Q, c_f, rho_f, mu_f, lambda_f)\n",
    "    (x, R_g, R_ar1, R_ar2) = calculate_resistance_basic(_D, _d_out, _w, _lambda_g)\n",
    "    (R_adv_out, R_con_out_a, R_con_out_b) = calculate_resistance_pipe(_d_out, _d_in, x, \n",
    "                                                                      Nu_out, R_g, lambda_f, lambda_p)\n",
    "    (R_fg, R_gs, R_gg1, R_gg2) = calculate_resistance(x, R_g, R_ar1, R_ar2, \n",
    "                                                      R_adv_out, R_con_out_a, R_con_out_b)\n",
    "    (R_1_Delta, R_12_Delta, u_1, v) = calculate_resistance_delta(R_fg, R_gs, R_gg1, R_gg2)\n",
    "    (beta_1, beta_12, gamma, delta) = calculate_greeks(A_in, u_out, rho_f, c_f, R_1_Delta, R_12_Delta)\n",
    "    (f1, f2, f3, Delta_L, depth) = provide_functions(N, L, beta_12, gamma, delta)\n",
    "    (T_in_profile, T_out_profile, T_gin_profile, T_gout_profile) = calculate_temperatures(\n",
    "        f1, f2, f3, N, L, Delta_L, T_in, T_s_profile, R_fg, R_gs, R_gg1, R_gg2, v, u_1, \\\n",
    "                           beta_1, beta_12, gamma, delta)\n",
    "    \n",
    "    print('x:     {0:3.4f}   R_adv_out:   {1:3.4f}   R_fg:  {2:3.4f}   beta_1:  {3:3.4f}   u:  {4:3.4f}'.format(x, R_adv_out, R_fg, beta_1, u_out))\n",
    "    print('R_g:   {0:3.4f}   R_con_out_a: {1:3.4f}   R_gs:  {2:3.4f}   beta_12: {3:3.4f}   Re_out:  {4:3.4f}'.format(R_g, R_con_out_a,  R_gs, beta_12, Re_out))\n",
    "    print('R_ar1: {0:3.4f}   R_con_out_b: {1:3.4f}   R_gg1: {2:3.4f}   gamma:  {3:3.4f}    Pr:  {4:3.4f}'.format(R_ar1, R_con_out_b, R_gg1, gamma, Pr))\n",
    "    print('R_ar2: {0:3.4f}                     R_gg2: {1:3.4f}   delta:  {2:3.4f}   Nu_out:  {3:3.4f}'.format(R_ar2, R_gg2, delta, Nu_out))\n",
    "    print('T_in:  {0:3.4f}  T_gin: {1:3.4f} '.format(T_in_profile[0], T_gin_profile[0]))\n",
    "    print('T_out: {0:3.4f}  T_gout: {1:3.4f} '.format(T_out_profile[0], T_gout_profile[0]))\n",
    "\n",
    "    setup = _w+ _d_out < _D and _d_out < _w\n",
    "    constraint1 = 1/( (1/R_gg1) + (.5/R_gs))\n",
    "    constraint2 = 1/( (1/R_gg2) + (.5/R_gs))\n",
    "    print('Setup: {0}  Constraint1: {1:3.4f}  Constraint 2: {2:3.4f}'.format(\n",
    "       setup, constraint1, constraint2))\n",
    "    \n",
    "    do_plot(T_in_profile, T_out_profile, T_gin_profile, T_gout_profile, T_s_profile, _D, _d_out, _w, \n",
    "            setup and constraint1 > 0 and constraint2 > 0)\n",
    "\n",
    "\n",
    "widget_return = widgets.interact(calculate, \n",
    "                                 # borehole diameter\n",
    "                                 _D=widgets.FloatSlider(value=D, min=.05, max=.2, \n",
    "                                              step=0.001, readout_format='.3f'),\n",
    "                                 _w=widgets.FloatSlider(value=w, min=.01, max=.1, \n",
    "                                              step=0.001, readout_format='.3f'),\n",
    "                                 _d_out=widgets.FloatSlider(value=d_out, min=.001, max=.05, \n",
    "                                              step=0.001, readout_format='.3f'),\n",
    "                                 _b=widgets.FloatSlider(value=(d_out-d_in)/2, min=.001, max=.01, \n",
    "                                              step=0.001, readout_format='.3f'),\n",
    "                                 _Q=widgets.FloatSlider(value=Q, min=1.e-6, max=1.e-3, \n",
    "                                              step=1.e-6, readout_format='.6f'),\n",
    "                                 _lambda_g=widgets.FloatSlider(value=lambda_g, min=.5, max=4., \n",
    "                                              step=0.001, readout_format='.3f')\n",
    "       \n",
    "                                )"
   ]
  },
  {
   "cell_type": "code",
   "execution_count": null,
   "metadata": {
    "collapsed": true
   },
   "outputs": [],
   "source": []
  },
  {
   "cell_type": "code",
   "execution_count": null,
   "metadata": {
    "collapsed": true
   },
   "outputs": [],
   "source": []
  },
  {
   "cell_type": "code",
   "execution_count": null,
   "metadata": {
    "collapsed": true
   },
   "outputs": [],
   "source": []
  }
 ],
 "metadata": {
  "kernelspec": {
   "display_name": "Python3 (anaconda)",
   "language": "python",
   "name": "anaconda"
  },
  "language_info": {
   "codemirror_mode": {
    "name": "ipython",
    "version": 3
   },
   "file_extension": ".py",
   "mimetype": "text/x-python",
   "name": "python",
   "nbconvert_exporter": "python",
   "pygments_lexer": "ipython3",
   "version": "3.6.0"
  },
  "widgets": {
   "state": {
    "12ebbeb5690a4eae9019ff0ed6092ac9": {
     "views": [
      {
       "cell_index": 20
      }
     ]
    }
   },
   "version": "1.2.0"
  }
 },
 "nbformat": 4,
 "nbformat_minor": 2
}
