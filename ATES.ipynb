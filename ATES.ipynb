{
 "cells": [
  {
   "cell_type": "code",
   "execution_count": 113,
   "metadata": {
    "collapsed": true
   },
   "outputs": [],
   "source": [
    "import numpy as np\n",
    "import matplotlib.pyplot as plt\n",
    "from scipy import special\n",
    "from ipywidgets import widgets\n",
    "\n",
    "\n",
    "%matplotlib inline"
   ]
  },
  {
   "cell_type": "code",
   "execution_count": 116,
   "metadata": {
    "collapsed": true
   },
   "outputs": [],
   "source": [
    "x = -np.arange(200)\n",
    "y = 0\n",
    "z = 0\n",
    "\n",
    "a = 50\n",
    "E = 10\n",
    "epsilon = .3\n",
    "\n",
    "Lambda_s = 3\n",
    "\n",
    "c_vol_f = 4.2e6\n",
    "c_vol_s = 2.52e6\n",
    "\n",
    "Q = 150 / 86400\n",
    "\n",
    "\n",
    "a2 = a*a"
   ]
  },
  {
   "cell_type": "code",
   "execution_count": 117,
   "metadata": {
    "collapsed": false
   },
   "outputs": [
    {
     "name": "stderr",
     "output_type": "stream",
     "text": [
      "/home/jens/miniconda3/lib/python3.6/site-packages/ipykernel/__main__.py:2: RuntimeWarning: invalid value encountered in true_divide\n",
      "  from ipykernel import kernelapp as app\n",
      "/home/jens/miniconda3/lib/python3.6/site-packages/ipykernel/__main__.py:3: RuntimeWarning: divide by zero encountered in true_divide\n",
      "  app.launch_new_instance()\n"
     ]
    }
   ],
   "source": [
    "f = epsilon * c_vol_f / ( epsilon * c_vol_f + (1 - epsilon) * c_vol_s)\n",
    "eta = np.arctan(2 * a * y / (a2 - x*x - y*y))\n",
    "xi = .5 * np.log(((x-a)*(x-a) + y*y) / ((x+a)*(x+a) + y*y))\n",
    "\n",
    "#print('f:   {}'.format(f))\n",
    "#print('eta: {}'.format(eta))\n",
    "#print('xi:  {}'.format(xi))"
   ]
  },
  {
   "cell_type": "code",
   "execution_count": 118,
   "metadata": {
    "collapsed": false
   },
   "outputs": [],
   "source": [
    "if True: #np.abs(np.abs(np.cos(eta)) - 1) < 1.e-10:\n",
    "    term1 = np.sinh(xi) /(np.cosh(xi) + np.cos(eta)) * (1 + np.cos(eta) /(np.cosh(xi) + np.cos(eta)) )\n",
    "    factor = (1 - term1) \n",
    "    I = factor * 4 * np.pi * E * a2 * f / (3*Q)\n",
    "    #print('Is true')\n",
    "else:\n",
    "    term1 = np.arctan(np.tan(eta/2)*(np.tanh(xi/2)-1) / (1+np.tanh(xi/2) * np.tan(eta/2) * np.tan(eta/2) ) ) \\\n",
    "    * 2 *  np.cos(eta) / np.sin(eta) \n",
    "    term2 = - np.sinh(xi) /(np.cosh(xi) + np.cos(eta))\n",
    "    \n",
    "    factor = (1 + term1 + term2) / np.sin(eta)\n",
    "    I = factor * 4 * np.pi * E * a2 * f / Q\n",
    "    \n",
    "# I"
   ]
  },
  {
   "cell_type": "code",
   "execution_count": 119,
   "metadata": {
    "collapsed": false
   },
   "outputs": [
    {
     "name": "stderr",
     "output_type": "stream",
     "text": [
      "/home/jens/miniconda3/lib/python3.6/site-packages/ipykernel/__main__.py:6: RuntimeWarning: invalid value encountered in sqrt\n"
     ]
    },
    {
     "data": {
      "image/png": "[encoded data removed]",
      "text/plain": [
       "<matplotlib.figure.Figure at 0x7f77db111748>"
      ]
     },
     "metadata": {},
     "output_type": "display_data"
    }
   ],
   "source": [
    "def calc_temperature(_t):\n",
    "\n",
    "    term1 = I * np.sqrt(Lambda_s * c_vol_s) / (E * (epsilon*c_vol_f + (1-epsilon)*c_vol_s))\n",
    "    term2 = np.sqrt(c_vol_s / Lambda_s) * z\n",
    "\n",
    "    _T = special.erfc((1. / (2 * np.sqrt(_t-I)) ) * (term1 + term2))\n",
    "\n",
    "    return _T\n",
    "\n",
    "\n",
    "\n",
    "def do_plot(_t):\n",
    "\n",
    "    _T = calc_temperature(_t*86400)\n",
    "    plt.figure(1, figsize=(10, 5))\n",
    "\n",
    "    ax = plt.subplot(111)\n",
    "    ax.plot(x, _T, color='blue', linewidth=2, label='analytical')\n",
    "    #ax.set_ylim([-.1, 1.1])\n",
    "\n",
    "    ax.minorticks_on()\n",
    "    ax.grid(b=True, which='major', linestyle='-')\n",
    "    ax.grid(b=True, which='minor', linestyle='--')\n",
    "\n",
    "    #print(_T)\n",
    "    \n",
    "widget_return = widgets.interact(do_plot, \n",
    "                                 # borehole diameter\n",
    "                                 _t=widgets.IntSlider(value=100, min=0, max=1000, \n",
    "                                              step=10)\n",
    "                                \n",
    "       \n",
    "                                )\n"
   ]
  }
 ],
 "metadata": {
  "kernelspec": {
   "display_name": "Python3 (anaconda)",
   "language": "python",
   "name": "anaconda"
  },
  "language_info": {
   "codemirror_mode": {
    "name": "ipython",
    "version": 3
   },
   "file_extension": ".py",
   "mimetype": "text/x-python",
   "name": "python",
   "nbconvert_exporter": "python",
   "pygments_lexer": "ipython3",
   "version": "3.6.0"
  },
  "widgets": {
   "state": {
    "df51cb5d7dbc4b218b42f2313dea7183": {
     "views": [
      {
       "cell_index": 4
      }
     ]
    }
   },
   "version": "1.2.0"
  }
 },
 "nbformat": 4,
 "nbformat_minor": 2
}
